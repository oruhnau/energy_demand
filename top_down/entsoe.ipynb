{
 "cells": [
  {
   "cell_type": "code",
   "execution_count": 1,
   "metadata": {},
   "outputs": [],
   "source": [
    "from entsoe import EntsoePandasClient\n",
    "import pandas as pd\n",
    "from pandas import DataFrame\n",
    "from datetime import timedelta, date\n",
    "import numpy as np\n",
    "import os.path\n",
    "import requests\n",
    "import datetime"
   ]
  },
  {
   "cell_type": "code",
   "execution_count": 2,
   "metadata": {},
   "outputs": [],
   "source": [
    "client = EntsoePandasClient(api_key = \"9c51aa38-46cc-44ea-a3f0-dd69525abd80\")\n",
    "\n",
    "os.makedirs(os.getcwd() + \"/\" + \"entsoe_transparency_data\", exist_ok = True)\n",
    "\n",
    "path = os.getcwd() + \"/\" + \"entsoe_transparency_data\""
   ]
  },
  {
   "cell_type": "code",
   "execution_count": 3,
   "metadata": {},
   "outputs": [],
   "source": [
    "#set your dates!\n",
    "start = pd.Timestamp('2022-01-10')\n",
    "end = pd.Timestamp('2021-04-13')\n",
    "\n",
    "country = \"DE\""
   ]
  },
  {
   "cell_type": "code",
   "execution_count": 4,
   "metadata": {},
   "outputs": [],
   "source": [
    "date_list = [(date.year, date.month) for date in pd.date_range(\n",
    "    start=pd.Timestamp(start.year, start.month, 1), \n",
    "    end=pd.Timestamp(end.year, end.month+1, 1)-pd.Timedelta('1d'), \n",
    "    freq=\"m\"\n",
    ")]\n",
    "#end=pd.Timestamp(end.year, end.month+1, 1)-pd.Timedelta('1d'), "
   ]
  },
  {
   "cell_type": "code",
   "execution_count": 5,
   "metadata": {},
   "outputs": [
    {
     "data": {
      "text/plain": [
       "[(2022, 1), (2022, 2), (2022, 3), (2022, 4)]"
      ]
     },
     "execution_count": 5,
     "metadata": {},
     "output_type": "execute_result"
    }
   ],
   "source": [
    "date_list"
   ]
  },
  {
   "cell_type": "code",
   "execution_count": 43,
   "metadata": {},
   "outputs": [
    {
     "name": "stdout",
     "output_type": "stream",
     "text": [
      "(2022, 1)\n",
      "2022-01-01 00:00:00+01:00\n",
      "2022-02-01 00:00:00+01:00\n",
      "(2022, 2)\n",
      "2022-02-01 00:00:00+01:00\n",
      "2022-03-01 00:00:00+01:00\n",
      "(2022, 3)\n",
      "2022-03-01 00:00:00+01:00\n",
      "2022-04-01 00:00:00+02:00\n",
      "(2022, 4)\n",
      "2022-04-01 00:00:00+02:00\n",
      "2022-05-01 00:00:00+02:00\n"
     ]
    }
   ],
   "source": [
    "for date in date_list:\n",
    "    print(date)\n",
    "    d_start = pd.Timestamp(year=date[0], month=date[1], day=1, tz='Europe/Brussels')\n",
    "    print(d_start)\n",
    "    d_end = pd.Timestamp(year=date[0], month=date[1] + 1, day=1, tz='Europe/Brussels')\n",
    "    print(d_end)\n",
    "    #df = client.query_generation_per_plant(tso[\"{}\".format(country)], start=start,end=end, psr_type=None)\n",
    "    "
   ]
  },
  {
   "cell_type": "code",
   "execution_count": 44,
   "metadata": {},
   "outputs": [],
   "source": [
    "# monthly_list is filled with dates in the format required for the queery\n",
    "year_start = 2020\n",
    "year_end = 2022\n",
    "month_start = 1\n",
    "month_end =12\n",
    "day_start = 1\n",
    "day_end = 31\n",
    "monthly_list = [] \n",
    "for year in list(range(year_start, year_end+1)):\n",
    "    for month in range(month_start, month_end+1):\n",
    "        if month == 12:\n",
    "            days = pd.date_range(start=\"{}{}{}\".format(year, \"%.2d\" % month, \"%.2d\" % day_start), \n",
    "                                 end=\"{}{}{}\".format(year, \"%.2d\" % month, \"%.2d\" % day_end), freq=\"D\").strftime(\"%Y%m%d\")\n",
    "        else:\n",
    "            if day_end > 28:\n",
    "                month_next = month+1\n",
    "                days = pd.date_range(start=\"{}{}{}\".format(year, \"%.2d\" % month, \"%.2d\" % day_start), \n",
    "                                     end=\"{}{}01\".format(year, \"%.2d\" % month_next), freq=\"D\")[:-1].strftime(\"%Y%m%d\")\n",
    "            else: \n",
    "                 days = pd.date_range(start=\"{}{}{}\".format(year, \"%.2d\" % month, \"%.2d\" % day_start), \n",
    "                                      end=\"{}{}{}\".format(year, \"%.2d\" % month, \"%.2d\" % day_end), freq=\"D\").strftime(\"%Y%m%d\")\n",
    "        monthly_list.append(days)"
   ]
  },
  {
   "cell_type": "code",
   "execution_count": 45,
   "metadata": {},
   "outputs": [],
   "source": [
    "# get generation data for all plants of an tso\n",
    "def get_generation_data_tso (country, step):\n",
    "    for dates in monthly_list[step:step+1]:\n",
    "        filename = dates[0][:-2]\n",
    "        file_path = os.path.join(path, country, filename)\n",
    "        if os.path.exists(file_path):\n",
    "            print(filename + \" already exists\")\n",
    "        else:\n",
    "            print(filename)\n",
    "            os.makedirs(str(path) + \"/\" + str(country), exist_ok = True)\n",
    "            country_path = os.path.join(path, str(country))\n",
    "            start = pd.Timestamp(dates[0], tz='Europe/Brussels')\n",
    "            end = pd.Timestamp(dates[-1], tz='Europe/Brussels')\n",
    "            df = client.query_generation_per_plant(tso[\"{}\".format(country)], start=start,end=end, psr_type=None)\n",
    "            df.to_pickle(\"{}/{}\".format(country_path, filename))"
   ]
  },
  {
   "cell_type": "code",
   "execution_count": 46,
   "metadata": {},
   "outputs": [],
   "source": [
    "def get_data(country, step):\n",
    "    for dates in monthly_list[step:step+1]:\n",
    "        filename = dates[0][:-2]\n",
    "        file_path = os.path.join(path, filename)\n",
    "        print(file_path)\n",
    "        if os.path.exists(file_path):\n",
    "            print(filename + \" already exists\")\n",
    "        else:\n",
    "            start = pd.Timestamp(dates[0], tz='Europe/Brussels')\n",
    "            end = pd.Timestamp(dates[-1], tz='Europe/Brussels') + pd.Timedelta('1d')\n",
    "            print(start)\n",
    "            print(end)\n",
    "            df = client.query_generation(country, start=start, end=end, psr_type=None)\n",
    "            df.to_pickle(\"{}\".format(file_path))"
   ]
  },
  {
   "cell_type": "code",
   "execution_count": 49,
   "metadata": {
    "scrolled": true
   },
   "outputs": [
    {
     "name": "stdout",
     "output_type": "stream",
     "text": [
      "0\n",
      "/Users/Jarusch/Documents/Hertie/Task/energy_demand/top_down/entsoe_transparency_data/202001\n",
      "202001 already exists\n",
      "1\n",
      "/Users/Jarusch/Documents/Hertie/Task/energy_demand/top_down/entsoe_transparency_data/202002\n",
      "202002 already exists\n",
      "2\n",
      "/Users/Jarusch/Documents/Hertie/Task/energy_demand/top_down/entsoe_transparency_data/202003\n",
      "202003 already exists\n",
      "3\n",
      "/Users/Jarusch/Documents/Hertie/Task/energy_demand/top_down/entsoe_transparency_data/202004\n",
      "202004 already exists\n",
      "4\n",
      "/Users/Jarusch/Documents/Hertie/Task/energy_demand/top_down/entsoe_transparency_data/202005\n",
      "202005 already exists\n",
      "5\n",
      "/Users/Jarusch/Documents/Hertie/Task/energy_demand/top_down/entsoe_transparency_data/202006\n",
      "202006 already exists\n",
      "6\n",
      "/Users/Jarusch/Documents/Hertie/Task/energy_demand/top_down/entsoe_transparency_data/202007\n",
      "202007 already exists\n",
      "7\n",
      "/Users/Jarusch/Documents/Hertie/Task/energy_demand/top_down/entsoe_transparency_data/202008\n",
      "202008 already exists\n",
      "8\n",
      "/Users/Jarusch/Documents/Hertie/Task/energy_demand/top_down/entsoe_transparency_data/202009\n",
      "202009 already exists\n",
      "9\n",
      "/Users/Jarusch/Documents/Hertie/Task/energy_demand/top_down/entsoe_transparency_data/202010\n",
      "202010 already exists\n",
      "10\n",
      "/Users/Jarusch/Documents/Hertie/Task/energy_demand/top_down/entsoe_transparency_data/202011\n",
      "202011 already exists\n",
      "11\n",
      "/Users/Jarusch/Documents/Hertie/Task/energy_demand/top_down/entsoe_transparency_data/202012\n",
      "202012 already exists\n",
      "12\n",
      "/Users/Jarusch/Documents/Hertie/Task/energy_demand/top_down/entsoe_transparency_data/202101\n",
      "202101 already exists\n",
      "13\n",
      "/Users/Jarusch/Documents/Hertie/Task/energy_demand/top_down/entsoe_transparency_data/202102\n",
      "202102 already exists\n",
      "14\n",
      "/Users/Jarusch/Documents/Hertie/Task/energy_demand/top_down/entsoe_transparency_data/202103\n",
      "202103 already exists\n",
      "15\n",
      "/Users/Jarusch/Documents/Hertie/Task/energy_demand/top_down/entsoe_transparency_data/202104\n",
      "202104 already exists\n",
      "16\n",
      "/Users/Jarusch/Documents/Hertie/Task/energy_demand/top_down/entsoe_transparency_data/202105\n",
      "202105 already exists\n",
      "17\n",
      "/Users/Jarusch/Documents/Hertie/Task/energy_demand/top_down/entsoe_transparency_data/202106\n",
      "202106 already exists\n",
      "18\n",
      "/Users/Jarusch/Documents/Hertie/Task/energy_demand/top_down/entsoe_transparency_data/202107\n",
      "202107 already exists\n",
      "19\n",
      "/Users/Jarusch/Documents/Hertie/Task/energy_demand/top_down/entsoe_transparency_data/202108\n",
      "202108 already exists\n",
      "20\n",
      "/Users/Jarusch/Documents/Hertie/Task/energy_demand/top_down/entsoe_transparency_data/202109\n",
      "202109 already exists\n",
      "21\n",
      "/Users/Jarusch/Documents/Hertie/Task/energy_demand/top_down/entsoe_transparency_data/202110\n",
      "202110 already exists\n",
      "22\n",
      "/Users/Jarusch/Documents/Hertie/Task/energy_demand/top_down/entsoe_transparency_data/202111\n",
      "202111 already exists\n",
      "23\n",
      "/Users/Jarusch/Documents/Hertie/Task/energy_demand/top_down/entsoe_transparency_data/202112\n",
      "202112 already exists\n",
      "24\n",
      "/Users/Jarusch/Documents/Hertie/Task/energy_demand/top_down/entsoe_transparency_data/202201\n",
      "202201 already exists\n",
      "25\n",
      "/Users/Jarusch/Documents/Hertie/Task/energy_demand/top_down/entsoe_transparency_data/202202\n",
      "202202 already exists\n",
      "26\n",
      "/Users/Jarusch/Documents/Hertie/Task/energy_demand/top_down/entsoe_transparency_data/202203\n",
      "202203 already exists\n",
      "27\n",
      "/Users/Jarusch/Documents/Hertie/Task/energy_demand/top_down/entsoe_transparency_data/202204\n",
      "202204 already exists\n",
      "28\n",
      "/Users/Jarusch/Documents/Hertie/Task/energy_demand/top_down/entsoe_transparency_data/202205\n",
      "202205 already exists\n",
      "29\n",
      "/Users/Jarusch/Documents/Hertie/Task/energy_demand/top_down/entsoe_transparency_data/202206\n",
      "202206 already exists\n",
      "30\n",
      "/Users/Jarusch/Documents/Hertie/Task/energy_demand/top_down/entsoe_transparency_data/202207\n",
      "202207 already exists\n",
      "31\n",
      "/Users/Jarusch/Documents/Hertie/Task/energy_demand/top_down/entsoe_transparency_data/202208\n",
      "202208 already exists\n",
      "32\n",
      "/Users/Jarusch/Documents/Hertie/Task/energy_demand/top_down/entsoe_transparency_data/202209\n",
      "202209 already exists\n",
      "33\n",
      "/Users/Jarusch/Documents/Hertie/Task/energy_demand/top_down/entsoe_transparency_data/202210\n",
      "202210 already exists\n",
      "34\n",
      "/Users/Jarusch/Documents/Hertie/Task/energy_demand/top_down/entsoe_transparency_data/202211\n",
      "202211 already exists\n",
      "35\n",
      "/Users/Jarusch/Documents/Hertie/Task/energy_demand/top_down/entsoe_transparency_data/202212\n",
      "202212 already exists\n"
     ]
    }
   ],
   "source": [
    "for step in range(len(monthly_list)):\n",
    "    try:\n",
    "        print(step)\n",
    "        get_data(country, step)\n",
    "    except requests.exceptions.ConnectionError:\n",
    "        print('failed')\n",
    "        pass  "
   ]
  },
  {
   "cell_type": "code",
   "execution_count": 50,
   "metadata": {},
   "outputs": [],
   "source": [
    "# read pickles and save to df\n",
    "def get_pickles(country):\n",
    "    df_list = []\n",
    "    for step in monthly_list[:28]:\n",
    "        ts = pd.read_pickle(\"{}/{}\".format(path, step[0][:-2]))\n",
    "        df_list.append(ts)\n",
    "    df = pd.concat(df_list, axis = 0)\n",
    "    return df    "
   ]
  },
  {
   "cell_type": "code",
   "execution_count": 51,
   "metadata": {},
   "outputs": [],
   "source": [
    "df = get_pickles(country)"
   ]
  },
  {
   "cell_type": "code",
   "execution_count": 55,
   "metadata": {},
   "outputs": [
    {
     "data": {
      "text/plain": [
       "2020-01-01 00:00:00+01:00    462386.0\n",
       "2020-01-02 00:00:00+01:00    531120.0\n",
       "2020-01-03 00:00:00+01:00    437843.0\n",
       "2020-01-04 00:00:00+01:00    419687.0\n",
       "2020-01-05 00:00:00+01:00    547980.0\n",
       "                               ...   \n",
       "2022-04-26 00:00:00+02:00    813619.0\n",
       "2022-04-27 00:00:00+02:00    753303.0\n",
       "2022-04-28 00:00:00+02:00    546042.0\n",
       "2022-04-29 00:00:00+02:00    567994.0\n",
       "2022-04-30 00:00:00+02:00    366160.0\n",
       "Freq: D, Name: (Fossil Gas, Actual Aggregated), Length: 851, dtype: float64"
      ]
     },
     "execution_count": 55,
     "metadata": {},
     "output_type": "execute_result"
    }
   ],
   "source": [
    "df.resample(\"1d\").sum()['Fossil Gas', 'Actual Aggregated']"
   ]
  },
  {
   "cell_type": "code",
   "execution_count": 56,
   "metadata": {},
   "outputs": [],
   "source": [
    "ser = df.resample('1d').sum()['Fossil Gas', 'Actual Aggregated'] / 4\n",
    "ser.name = 'electricity_from_gas'\n",
    "ser = ser.tz_localize(None)\n",
    "ser.to_csv('../data/electricity_from_gas.csv')"
   ]
  },
  {
   "cell_type": "code",
   "execution_count": 57,
   "metadata": {},
   "outputs": [
    {
     "data": {
      "text/plain": [
       "<AxesSubplot:>"
      ]
     },
     "execution_count": 57,
     "metadata": {},
     "output_type": "execute_result"
    },
    {
     "data": {
      "image/png": "[encoded data removed]",
      "text/plain": [
       "<Figure size 432x288 with 1 Axes>"
      ]
     },
     "metadata": {
      "needs_background": "light"
     },
     "output_type": "display_data"
    }
   ],
   "source": [
    "ser[ser.index.year>2020].plot()"
   ]
  },
  {
   "cell_type": "code",
   "execution_count": null,
   "metadata": {},
   "outputs": [],
   "source": []
  }
 ],
 "metadata": {
  "kernelspec": {
   "display_name": "Python 3",
   "language": "python",
   "name": "python3"
  },
  "language_info": {
   "codemirror_mode": {
    "name": "ipython",
    "version": 3
   },
   "file_extension": ".py",
   "mimetype": "text/x-python",
   "name": "python",
   "nbconvert_exporter": "python",
   "pygments_lexer": "ipython3",
   "version": "3.8.5"
  }
 },
 "nbformat": 4,
 "nbformat_minor": 4
}
