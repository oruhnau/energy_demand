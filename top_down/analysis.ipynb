{
 "cells": [
  {
   "cell_type": "code",
   "execution_count": null,
   "id": "a54aa7ec",
   "metadata": {},
   "outputs": [],
   "source": [
    "from linearmodels import IV2SLS"
   ]
  },
  {
   "cell_type": "code",
   "execution_count": null,
   "id": "5f58a530",
   "metadata": {},
   "outputs": [],
   "source": [
    "# Read preprocessed"
   ]
  },
  {
   "cell_type": "code",
   "execution_count": null,
   "id": "4590b43b",
   "metadata": {},
   "outputs": [],
   "source": [
    "formula = 'bdew_residual ~ 1 + slp_est + C(weekday)'"
   ]
  },
  {
   "cell_type": "code",
   "execution_count": null,
   "id": "58caa051",
   "metadata": {},
   "outputs": [],
   "source": [
    "formula = ('load') + ' ~ 1 + ' + ' + '.join(\n",
    "    controls + ['C({})'.format(d) for d in time_dummies]\n",
    ")"
   ]
  },
  {
   "cell_type": "code",
   "execution_count": null,
   "id": "ec169ecb",
   "metadata": {},
   "outputs": [],
   "source": [
    "model = IV2SLS.from_formula(formula, data=df)\n",
    "results = model.fit() # cov_type='robust' if diff else 'kernel'"
   ]
  },
  {
   "cell_type": "code",
   "execution_count": null,
   "id": "cdb44fee",
   "metadata": {},
   "outputs": [],
   "source": [
    "pd.concat(\n",
    "    [results.params, results.std_errors], axis=1\n",
    ").to_csv('results.csv')"
   ]
  },
  {
   "cell_type": "code",
   "execution_count": null,
   "id": "296043b6",
   "metadata": {},
   "outputs": [],
   "source": [
    "def extract(x):\n",
    "    x1 = x.first_stage.diagnostics\n",
    "    return {\n",
    "        'estimate': x.params['price'],\n",
    "        'errors': x.std_errors['price'],\n",
    "        'prsq': x1['partial.rsquared']['price'],\n",
    "        'fstat': x1['f.stat']['price']\n",
    "    }"
   ]
  }
 ],
 "metadata": {
  "kernelspec": {
   "display_name": "Python 3 (ipykernel)",
   "language": "python",
   "name": "python3"
  },
  "language_info": {
   "codemirror_mode": {
    "name": "ipython",
    "version": 3
   },
   "file_extension": ".py",
   "mimetype": "text/x-python",
   "name": "python",
   "nbconvert_exporter": "python",
   "pygments_lexer": "ipython3",
   "version": "3.9.5"
  }
 },
 "nbformat": 4,
 "nbformat_minor": 5
}
