{
 "cells": [
  {
   "cell_type": "code",
   "execution_count": 14,
   "metadata": {},
   "outputs": [],
   "source": [
    "from linearmodels import IV2SLS\n",
    "import pandas as pd\n",
    "import os\n",
    "import numpy as np"
   ]
  },
  {
   "cell_type": "code",
   "execution_count": 5,
   "metadata": {},
   "outputs": [],
   "source": [
    "top_down_path = os.getcwd()\n",
    "os.chdir(\"../Data\")\n",
    "data_path = os.getcwd()\n",
    "os.chdir(top_down_path)"
   ]
  },
  {
   "cell_type": "code",
   "execution_count": 46,
   "metadata": {},
   "outputs": [
    {
     "data": {
      "text/html": [
       "<div>\n",
       "<style scoped>\n",
       "    .dataframe tbody tr th:only-of-type {\n",
       "        vertical-align: middle;\n",
       "    }\n",
       "\n",
       "    .dataframe tbody tr th {\n",
       "        vertical-align: top;\n",
       "    }\n",
       "\n",
       "    .dataframe thead th {\n",
       "        text-align: right;\n",
       "    }\n",
       "</style>\n",
       "<table border=\"1\" class=\"dataframe\">\n",
       "  <thead>\n",
       "    <tr style=\"text-align: right;\">\n",
       "      <th></th>\n",
       "      <th>aggregated(no_dist_heat)</th>\n",
       "      <th>dist_heat</th>\n",
       "      <th>slp_the [TWh]</th>\n",
       "      <th>rlm_the [TWh]</th>\n",
       "      <th>rlm_the_res</th>\n",
       "      <th>bdew [TWh]</th>\n",
       "      <th>bdew_res</th>\n",
       "      <th>scaled_to_AGEBL_2020 [TWh_gas/day]</th>\n",
       "      <th>gas_price [$/lhs]</th>\n",
       "      <th>index</th>\n",
       "      <th>...</th>\n",
       "      <th>year</th>\n",
       "      <th>month</th>\n",
       "      <th>weekday</th>\n",
       "      <th>weekday_num</th>\n",
       "      <th>monday</th>\n",
       "      <th>friday</th>\n",
       "      <th>weekend</th>\n",
       "      <th>christmas_period</th>\n",
       "      <th>holiday</th>\n",
       "      <th>bridgeday</th>\n",
       "    </tr>\n",
       "  </thead>\n",
       "  <tbody>\n",
       "    <tr>\n",
       "      <th>2021-10-01</th>\n",
       "      <td>0.738166</td>\n",
       "      <td>0.037952</td>\n",
       "      <td>0.701800</td>\n",
       "      <td>1.304783</td>\n",
       "      <td>1.075785</td>\n",
       "      <td>2.046847</td>\n",
       "      <td>1.817849</td>\n",
       "      <td>0.228998</td>\n",
       "      <td>93.62</td>\n",
       "      <td>2021-10-01</td>\n",
       "      <td>...</td>\n",
       "      <td>2021</td>\n",
       "      <td>10</td>\n",
       "      <td>Friday</td>\n",
       "      <td>4</td>\n",
       "      <td>0</td>\n",
       "      <td>1</td>\n",
       "      <td>0</td>\n",
       "      <td>0</td>\n",
       "      <td>0</td>\n",
       "      <td>0</td>\n",
       "    </tr>\n",
       "    <tr>\n",
       "      <th>2021-10-02</th>\n",
       "      <td>0.559080</td>\n",
       "      <td>0.028744</td>\n",
       "      <td>0.610800</td>\n",
       "      <td>1.077491</td>\n",
       "      <td>0.839662</td>\n",
       "      <td>1.802717</td>\n",
       "      <td>1.564888</td>\n",
       "      <td>0.237829</td>\n",
       "      <td>NaN</td>\n",
       "      <td>2021-10-02</td>\n",
       "      <td>...</td>\n",
       "      <td>2021</td>\n",
       "      <td>10</td>\n",
       "      <td>Saturday</td>\n",
       "      <td>5</td>\n",
       "      <td>0</td>\n",
       "      <td>0</td>\n",
       "      <td>1</td>\n",
       "      <td>0</td>\n",
       "      <td>0</td>\n",
       "      <td>0</td>\n",
       "    </tr>\n",
       "    <tr>\n",
       "      <th>2021-10-03</th>\n",
       "      <td>0.396701</td>\n",
       "      <td>0.020396</td>\n",
       "      <td>0.506066</td>\n",
       "      <td>1.074001</td>\n",
       "      <td>0.683518</td>\n",
       "      <td>1.707964</td>\n",
       "      <td>1.317480</td>\n",
       "      <td>0.390484</td>\n",
       "      <td>NaN</td>\n",
       "      <td>2021-10-03</td>\n",
       "      <td>...</td>\n",
       "      <td>2021</td>\n",
       "      <td>10</td>\n",
       "      <td>Sunday</td>\n",
       "      <td>6</td>\n",
       "      <td>0</td>\n",
       "      <td>0</td>\n",
       "      <td>1</td>\n",
       "      <td>0</td>\n",
       "      <td>1</td>\n",
       "      <td>0</td>\n",
       "    </tr>\n",
       "    <tr>\n",
       "      <th>2021-10-04</th>\n",
       "      <td>0.510587</td>\n",
       "      <td>0.026251</td>\n",
       "      <td>0.565016</td>\n",
       "      <td>1.415380</td>\n",
       "      <td>1.114668</td>\n",
       "      <td>1.932167</td>\n",
       "      <td>1.631455</td>\n",
       "      <td>0.300713</td>\n",
       "      <td>96.65</td>\n",
       "      <td>2021-10-04</td>\n",
       "      <td>...</td>\n",
       "      <td>2021</td>\n",
       "      <td>10</td>\n",
       "      <td>Monday</td>\n",
       "      <td>0</td>\n",
       "      <td>1</td>\n",
       "      <td>0</td>\n",
       "      <td>0</td>\n",
       "      <td>0</td>\n",
       "      <td>0</td>\n",
       "      <td>0</td>\n",
       "    </tr>\n",
       "    <tr>\n",
       "      <th>2021-10-05</th>\n",
       "      <td>0.618396</td>\n",
       "      <td>0.031794</td>\n",
       "      <td>0.638871</td>\n",
       "      <td>1.393310</td>\n",
       "      <td>1.053295</td>\n",
       "      <td>2.226157</td>\n",
       "      <td>1.886142</td>\n",
       "      <td>0.340015</td>\n",
       "      <td>116.02</td>\n",
       "      <td>2021-10-05</td>\n",
       "      <td>...</td>\n",
       "      <td>2021</td>\n",
       "      <td>10</td>\n",
       "      <td>Tuesday</td>\n",
       "      <td>1</td>\n",
       "      <td>0</td>\n",
       "      <td>0</td>\n",
       "      <td>0</td>\n",
       "      <td>0</td>\n",
       "      <td>0</td>\n",
       "      <td>0</td>\n",
       "    </tr>\n",
       "  </tbody>\n",
       "</table>\n",
       "<p>5 rows × 21 columns</p>\n",
       "</div>"
      ],
      "text/plain": [
       "            aggregated(no_dist_heat)  dist_heat  slp_the [TWh]  rlm_the [TWh]  \\\n",
       "2021-10-01                  0.738166   0.037952       0.701800       1.304783   \n",
       "2021-10-02                  0.559080   0.028744       0.610800       1.077491   \n",
       "2021-10-03                  0.396701   0.020396       0.506066       1.074001   \n",
       "2021-10-04                  0.510587   0.026251       0.565016       1.415380   \n",
       "2021-10-05                  0.618396   0.031794       0.638871       1.393310   \n",
       "\n",
       "            rlm_the_res  bdew [TWh]  bdew_res  \\\n",
       "2021-10-01     1.075785    2.046847  1.817849   \n",
       "2021-10-02     0.839662    1.802717  1.564888   \n",
       "2021-10-03     0.683518    1.707964  1.317480   \n",
       "2021-10-04     1.114668    1.932167  1.631455   \n",
       "2021-10-05     1.053295    2.226157  1.886142   \n",
       "\n",
       "            scaled_to_AGEBL_2020 [TWh_gas/day]  gas_price [$/lhs]       index  \\\n",
       "2021-10-01                            0.228998              93.62  2021-10-01   \n",
       "2021-10-02                            0.237829                NaN  2021-10-02   \n",
       "2021-10-03                            0.390484                NaN  2021-10-03   \n",
       "2021-10-04                            0.300713              96.65  2021-10-04   \n",
       "2021-10-05                            0.340015             116.02  2021-10-05   \n",
       "\n",
       "            ...  year  month   weekday weekday_num  monday  friday  weekend  \\\n",
       "2021-10-01  ...  2021     10    Friday           4       0       1        0   \n",
       "2021-10-02  ...  2021     10  Saturday           5       0       0        1   \n",
       "2021-10-03  ...  2021     10    Sunday           6       0       0        1   \n",
       "2021-10-04  ...  2021     10    Monday           0       1       0        0   \n",
       "2021-10-05  ...  2021     10   Tuesday           1       0       0        0   \n",
       "\n",
       "            christmas_period  holiday  bridgeday  \n",
       "2021-10-01                 0        0          0  \n",
       "2021-10-02                 0        0          0  \n",
       "2021-10-03                 0        1          0  \n",
       "2021-10-04                 0        0          0  \n",
       "2021-10-05                 0        0          0  \n",
       "\n",
       "[5 rows x 21 columns]"
      ]
     },
     "execution_count": 46,
     "metadata": {},
     "output_type": "execute_result"
    }
   ],
   "source": [
    "# Read preprocessed\n",
    "df = pd.read_csv(os.path.join(data_path, \"preprocessed.csv\"), index_col=0)\n",
    "df.head()"
   ]
  },
  {
   "cell_type": "markdown",
   "metadata": {},
   "source": [
    "# Estimations: X^= a + b*X"
   ]
  },
  {
   "cell_type": "code",
   "execution_count": 78,
   "metadata": {},
   "outputs": [],
   "source": [
    "df_x = df\n",
    "\n",
    "df_x = df_x.rename(columns = {\n",
    "    \"aggregated(no_dist_heat)\" : \"slp_w2h\",\n",
    "    \"slp_the [TWh]\" : \"slp_the\",\n",
    "    \"slp_the [TWh]\" : \"slp_the\",\n",
    "    \"bdew [TWh]\" : \"bdew\",\n",
    "    \"bdew_res\" : \"bdew_res\",\n",
    "    \"rlm_the [TWh]\" : \"rlm_the\",\n",
    "    \"rlm_the_res\" : \"rlm_the_res\",\n",
    "    \"gas_price [$/lhs]\" : \"prices\",\n",
    "    \"scaled_to_AGEBL_2020 [TWh_gas/day]\" : \"power\"\n",
    "})\n",
    "\n",
    "df_x[\"the_sum\"] = df_x[\"rlm_the\"].iloc[:, 0] + df_x[\"slp_the\"].iloc[:, 0]\n"
   ]
  },
  {
   "cell_type": "code",
   "execution_count": 79,
   "metadata": {},
   "outputs": [],
   "source": [
    "df_x_no_holiday = df_x[(df_x.holiday==0) & (df_x.christmas_period==0) & (df_x.bridgeday==0)]"
   ]
  },
  {
   "cell_type": "code",
   "execution_count": 85,
   "metadata": {},
   "outputs": [
    {
     "data": {
      "text/plain": [
       "Index(['slp_w2h', 'dist_heat', 'slp_the', 'rlm_the', 'rlm_the_res', 'bdew',\n",
       "       'bdew_res', 'power', 'prices', 'index', 'time', 'year', 'month',\n",
       "       'weekday', 'weekday_num', 'monday', 'friday', 'weekend',\n",
       "       'christmas_period', 'holiday', 'bridgeday', 'slp_w2h', 'slp_the',\n",
       "       'bdew', 'rlm_the', 'the', 'the_res', 'prices', 'power', 'the_sum'],\n",
       "      dtype='object')"
      ]
     },
     "execution_count": 85,
     "metadata": {},
     "output_type": "execute_result"
    }
   ],
   "source": [
    "df_x_no_holiday.columns"
   ]
  },
  {
   "cell_type": "markdown",
   "metadata": {},
   "source": [
    "## bdew"
   ]
  },
  {
   "cell_type": "code",
   "execution_count": 122,
   "metadata": {},
   "outputs": [],
   "source": [
    "formula_bdew = 'bdew_res ~ 1 + slp_w2h + C(weekend, month, friday)'"
   ]
  },
  {
   "cell_type": "code",
   "execution_count": 123,
   "metadata": {},
   "outputs": [],
   "source": [
    "model = IV2SLS.from_formula(formula, data=df_x_no_holiday)\n",
    "results = model.fit() "
   ]
  },
  {
   "cell_type": "code",
   "execution_count": 124,
   "metadata": {},
   "outputs": [
    {
     "data": {
      "text/html": [
       "<table class=\"simpletable\">\n",
       "<caption>OLS Estimation Summary</caption>\n",
       "<tr>\n",
       "  <th>Dep. Variable:</th>       <td>bdew[bdew]</td>    <th>  R-squared:         </th> <td>0.8156</td> \n",
       "</tr>\n",
       "<tr>\n",
       "  <th>Estimator:</th>               <td>OLS</td>       <th>  Adj. R-squared:    </th> <td>0.8132</td> \n",
       "</tr>\n",
       "<tr>\n",
       "  <th>No. Observations:</th>        <td>156</td>       <th>  F-statistic:       </th> <td>694.43</td> \n",
       "</tr>\n",
       "<tr>\n",
       "  <th>Date:</th>             <td>Tue, Apr 12 2022</td> <th>  P-value (F-stat)   </th> <td>0.0000</td> \n",
       "</tr>\n",
       "<tr>\n",
       "  <th>Time:</th>                 <td>10:56:56</td>     <th>  Distribution:      </th> <td>chi2(2)</td>\n",
       "</tr>\n",
       "<tr>\n",
       "  <th>Cov. Estimator:</th>        <td>robust</td>      <th>                     </th>    <td></td>    \n",
       "</tr>\n",
       "<tr>\n",
       "  <th></th>                          <td></td>         <th>                     </th>    <td></td>    \n",
       "</tr>\n",
       "</table>\n",
       "<table class=\"simpletable\">\n",
       "<caption>Parameter Estimates</caption>\n",
       "<tr>\n",
       "          <td></td>         <th>Parameter</th> <th>Std. Err.</th> <th>T-stat</th>  <th>P-value</th> <th>Lower CI</th> <th>Upper CI</th>\n",
       "</tr>\n",
       "<tr>\n",
       "  <th>Intercept</th>         <td>1.1564</td>    <td>0.0816</td>   <td>14.178</td>  <td>0.0000</td>   <td>0.9966</td>   <td>1.3163</td> \n",
       "</tr>\n",
       "<tr>\n",
       "  <th>C(weekend)[T.1]</th>   <td>-0.2985</td>   <td>0.0546</td>   <td>-5.4711</td> <td>0.0000</td>   <td>-0.4055</td>  <td>-0.1916</td>\n",
       "</tr>\n",
       "<tr>\n",
       "  <th>slp_w2h[slp_w2h]</th>  <td>1.5192</td>    <td>0.0577</td>   <td>26.314</td>  <td>0.0000</td>   <td>1.4060</td>   <td>1.6323</td> \n",
       "</tr>\n",
       "</table><br/>id: 0x7fcd797c5700"
      ],
      "text/plain": [
       "                            OLS Estimation Summary                            \n",
       "==============================================================================\n",
       "Dep. Variable:             bdew[bdew]   R-squared:                      0.8156\n",
       "Estimator:                        OLS   Adj. R-squared:                 0.8132\n",
       "No. Observations:                 156   F-statistic:                    694.43\n",
       "Date:                Tue, Apr 12 2022   P-value (F-stat)                0.0000\n",
       "Time:                        10:56:56   Distribution:                  chi2(2)\n",
       "Cov. Estimator:                robust                                         \n",
       "                                                                              \n",
       "                                Parameter Estimates                                 \n",
       "====================================================================================\n",
       "                  Parameter  Std. Err.     T-stat    P-value    Lower CI    Upper CI\n",
       "------------------------------------------------------------------------------------\n",
       "Intercept            1.1564     0.0816     14.178     0.0000      0.9966      1.3163\n",
       "C(weekend)[T.1]     -0.2985     0.0546    -5.4711     0.0000     -0.4055     -0.1916\n",
       "slp_w2h[slp_w2h]     1.5192     0.0577     26.314     0.0000      1.4060      1.6323\n",
       "====================================================================================\n",
       "OLSResults, id: 0x7fcd797c5700"
      ]
     },
     "execution_count": 124,
     "metadata": {},
     "output_type": "execute_result"
    }
   ],
   "source": [
    "results"
   ]
  },
  {
   "cell_type": "code",
   "execution_count": null,
   "metadata": {},
   "outputs": [],
   "source": [
    "d_R2 = {\"bdew\":\n",
    "     {\"weekend\":0.8156,\n",
    "      \"weekday\":0.8156,\n",
    "       \"weekday\":0.8156\n",
    "     }\n",
    "    \n",
    "}"
   ]
  },
  {
   "cell_type": "code",
   "execution_count": null,
   "metadata": {},
   "outputs": [],
   "source": []
  },
  {
   "cell_type": "code",
   "execution_count": null,
   "metadata": {},
   "outputs": [],
   "source": [
    "Next steps:\n",
    "RLM* = RLM_THE_res (- X * SLP)\n",
    "\n",
    "bdew auf 2021 fitten mit a(SLP) \n",
    "\n",
    "plot estimate_bdew_2021 vs bdew_2021\n",
    "\n",
    "Powersektor\n",
    "1) nur residual und plot estimate_res + power vs bdew_res + power \n",
    "2) als Kontrollvariable: Ewartung: 25% \n",
    "\n",
    "model.fit ohne weihnacht, dann plot, dann model.predict für 2022"
   ]
  },
  {
   "cell_type": "code",
   "execution_count": null,
   "metadata": {},
   "outputs": [],
   "source": [
    "formula = 'bdew ~ 1 + slp_w2h + C(weekend)'\n",
    "\n",
    "formula = ('load') + ' ~ 1 + ' + ' + '.join(\n",
    "    controls + ['C({})'.format(d) for d in time_dummies]\n",
    ")"
   ]
  },
  {
   "cell_type": "code",
   "execution_count": null,
   "metadata": {},
   "outputs": [],
   "source": [
    "pd.concat(\n",
    "    [results.params, results.std_errors], axis=1\n",
    ")#.to_csv('results.csv')"
   ]
  },
  {
   "cell_type": "code",
   "execution_count": 89,
   "metadata": {},
   "outputs": [],
   "source": [
    "def extract(x):\n",
    "    #x1 = x.first_stage.diagnostics\n",
    "    return {\n",
    "        'estimate': x.params['price'],\n",
    "        'errors': x.std_errors['price']#,\n",
    "        #'prsq': x1['partial.rsquared']['price'],\n",
    "        #'fstat': x1['f.stat']['price']\n",
    "    }"
   ]
  },
  {
   "cell_type": "code",
   "execution_count": null,
   "metadata": {},
   "outputs": [],
   "source": []
  }
 ],
 "metadata": {
  "kernelspec": {
   "display_name": "Python 3",
   "language": "python",
   "name": "python3"
  },
  "language_info": {
   "codemirror_mode": {
    "name": "ipython",
    "version": 3
   },
   "file_extension": ".py",
   "mimetype": "text/x-python",
   "name": "python",
   "nbconvert_exporter": "python",
   "pygments_lexer": "ipython3",
   "version": "3.8.5"
  }
 },
 "nbformat": 4,
 "nbformat_minor": 5
}
