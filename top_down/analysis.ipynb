{
 "cells": [
  {
   "cell_type": "code",
   "execution_count": 1,
   "metadata": {},
   "outputs": [],
   "source": [
    "import numpy as np\n",
    "import statsmodels.api as sm\n",
    "import statsmodels.formula.api as smf\n",
    "import pandas as pd\n",
    "import os\n",
    "import numpy as np\n",
    "import datetime\n",
    "import matplotlib.dates as mdates\n",
    "import matplotlib.pyplot as plt\n",
    "from statsmodels.tsa.stattools import adfuller\n",
    "from statsmodels.tsa.stattools import kpss"
   ]
  },
  {
   "cell_type": "code",
   "execution_count": 2,
   "metadata": {},
   "outputs": [],
   "source": [
    "top_down_path = os.getcwd()\n",
    "os.chdir(\"../Data\")\n",
    "data_path = os.getcwd()\n",
    "os.chdir(top_down_path)"
   ]
  },
  {
   "cell_type": "markdown",
   "metadata": {},
   "source": [
    "# Read data"
   ]
  },
  {
   "cell_type": "code",
   "execution_count": 3,
   "metadata": {},
   "outputs": [],
   "source": [
    "# Read preprocessed\n",
    "df = pd.read_csv(os.path.join(data_path, \"preprocessed.csv\"), index_col=0)\n",
    "df.index = pd.to_datetime(df.index)"
   ]
  },
  {
   "cell_type": "code",
   "execution_count": 4,
   "metadata": {},
   "outputs": [
    {
     "data": {
      "text/plain": [
       "<AxesSubplot:>"
      ]
     },
     "execution_count": 4,
     "metadata": {},
     "output_type": "execute_result"
    },
    {
     "data": {
      "image/png": "[encoded data removed]",
      "text/plain": [
       "<Figure size 432x288 with 1 Axes>"
      ]
     },
     "metadata": {
      "needs_background": "light"
     },
     "output_type": "display_data"
    }
   ],
   "source": [
    "df['hospitality_sector'].plot()"
   ]
  },
  {
   "cell_type": "markdown",
   "metadata": {},
   "source": [
    "# Prepare regression data"
   ]
  },
  {
   "cell_type": "code",
   "execution_count": 5,
   "metadata": {},
   "outputs": [],
   "source": [
    "dfx = df.copy()\n",
    "dfx = dfx.rename(columns={\n",
    "    'aggregated': 'w2h',\n",
    "    'electricity_from_gas': 'power',\n",
    "    'producing_sector': 'prod',\n",
    "    'manufacturing_sector': 'manu',\n",
    "    'retail_sector': 'retail',\n",
    "    'hospitality_sector': 'hosp',\n",
    "    'gas_price [€/MWh]': 'prices'\n",
    "})\n",
    "\n",
    "dfx['log_slp'] = np.log(dfx['slp'])\n",
    "dfx['log_rlm'] = np.log(dfx['rlm'])\n",
    "dfx['power2'] = dfx['power'].apply(lambda x: x**2)\n",
    "\n",
    "dfx = dfx[\n",
    "    (dfx.holiday==0) & \n",
    "    (dfx.christmas_period==0) & \n",
    "    (dfx.bridgeday==0)\n",
    "]\n",
    "\n",
    "# Cut corona\n",
    "# covid_beginning = \"2020-02-01\" --> lockdown started on 13 March 2020\n",
    "#dfx = dfx[(dfx.index < '2020-03-01')|(dfx.index >= '2021-05-01')]"
   ]
  },
  {
   "cell_type": "code",
   "execution_count": 6,
   "metadata": {},
   "outputs": [],
   "source": [
    "crisis_start = \"2021-09-01\"\n",
    "fitting_start = \"2017-09-01\"\n",
    "# invasion_date = \"2022-02-24\""
   ]
  },
  {
   "cell_type": "markdown",
   "metadata": {},
   "source": [
    "Monthly treatment dummies from Sep 2021 onwards:"
   ]
  },
  {
   "cell_type": "code",
   "execution_count": 7,
   "metadata": {},
   "outputs": [],
   "source": [
    "def model(dummy_list, consumer='rlm', further_controls=False, econ=False):\n",
    "    \n",
    "    dfx['crisis'] = dfx.index.map(lambda x: x >= crisis_start)\n",
    "    \n",
    "    results = {}\n",
    "    \n",
    "    names = ['naive', 'temp']\n",
    "    if consumer=='rlm':\n",
    "        names += ['temp+power']\n",
    "    if econ:\n",
    "        names += [names[-1] + '+econ']\n",
    "    \n",
    "    for name in names:\n",
    "    \n",
    "        m = f'{\"log_\" if log else \"\"}{consumer} ~ 1 + time + C(month) + C(weekday) + ' + ' + '.join(dummy_list)\n",
    "        \n",
    "        if further_controls:\n",
    "            control_list = []\n",
    "            for date in pd.date_range(fitting_start, pd.Timestamp(crisis_start) - pd.Timedelta('1y'), freq='1m'):\n",
    "                dummy_name = f'm{date.year}_{date.month}'\n",
    "                dfx.loc[dfx.index, dummy_name] = dfx.index.map(\n",
    "                    lambda x: (x.year==date.year) & (x.month==date.month)\n",
    "                ).values\n",
    "                control_list.append(dummy_name)\n",
    "            m += ' + ' + ' + '.join(control_list)\n",
    "        \n",
    "        if 'temp' in name:\n",
    "            m += ' + residential + commercial + time * residential'\n",
    "        if 'power' in name:\n",
    "            m += ' + power'\n",
    "        if 'econ' in name:\n",
    "            m += (' + manu' if consumer=='rlm' else ' + hosp')\n",
    "    \n",
    "        results[name] = smf.ols(m, dfx.loc[fitting_start:]).fit(cov_type='HAC', cov_kwds={'maxlags':6})\n",
    "\n",
    "    return results"
   ]
  },
  {
   "cell_type": "code",
   "execution_count": 8,
   "metadata": {},
   "outputs": [],
   "source": [
    "def extract_results(dummy_list, results):\n",
    "    \n",
    "    extracted_results = pd.concat(\n",
    "        [results.params, results.bse], keys=['coef', 'se'], axis=1\n",
    "    )\n",
    "    \n",
    "    extracted_results = extracted_results*100 if log else extracted_results\n",
    "    extracted_results = extracted_results.loc[[d + '[T.True]' for d in dummy_list]]\n",
    "    extracted_results.index = dummy_list\n",
    "    extracted_results['low'] = extracted_results['coef'] - 2 * extracted_results['se']\n",
    "    extracted_results['high'] = extracted_results['coef'] + 2 * extracted_results['se']\n",
    "    \n",
    "    return extracted_results"
   ]
  },
  {
   "cell_type": "markdown",
   "metadata": {},
   "source": [
    "# One crisis dummy"
   ]
  },
  {
   "cell_type": "code",
   "execution_count": 9,
   "metadata": {},
   "outputs": [],
   "source": [
    "def plot_waterfall(ax, results, consumer='rlm', ylabel=''):\n",
    "\n",
    "    colors = ['tab:blue', 'tab:orange', 'tab:green', 'tab:purple', 'tab:red']\n",
    "    \n",
    "    for i, (name, res) in enumerate(results.items()):\n",
    "        \n",
    "        # first bar\n",
    "        if i==0:\n",
    "            ax.bar(i, res['coef'], alpha=0.5, color=colors[i])\n",
    "            ax.plot([i,i], [res['low'], res['high']], color=colors[i])\n",
    "        \n",
    "        # waterfall\n",
    "        if i > 0:\n",
    "            ax.bar(i, res['coef'] - previous_coef, bottom=previous_coef, alpha=0.5, color=colors[i])    \n",
    "            ax.plot([i-1.4,i+0.4], [previous_coef, previous_coef], color='black', linewidth=0.7, linestyle='--')\n",
    "            ax.plot([i-0.4,i+1.4], [res['coef'], res['coef']], color='black', linewidth=0.7, linestyle='--')\n",
    "            \n",
    "        previous_coef = res['coef']\n",
    "    \n",
    "    # last bar\n",
    "    i += 1\n",
    "    ax.bar(i, res['coef'], alpha=0.5, color=colors[-1])\n",
    "    ax.plot([i,i], [res['low'], res['high']], color=colors[-1])\n",
    "    \n",
    "    ax.grid(axis='y')\n",
    "    ax.axhline(0, color='black', linewidth=0.5)\n",
    "    ax.set_ylabel(ylabel)\n",
    "    ax.set_title('Small consumers' if consumer=='slp' else 'Large consumers')\n",
    "    if log:\n",
    "        ax.set_ylim(-21, 7)\n",
    "        \n",
    "    labels = ['Overall', 'Temperature']\n",
    "    if consumer=='rlm': \n",
    "        labels += ['Power\\nsector']\n",
    "    if len(labels) < len(results):\n",
    "        labels += ['Economic\\nactivity']\n",
    "    ax.set_xticks(\n",
    "        range(len(results)+1), \n",
    "        labels + ['Crisis\\nresponse']\n",
    "    )"
   ]
  },
  {
   "cell_type": "code",
   "execution_count": 10,
   "metadata": {},
   "outputs": [],
   "source": [
    "def one_dummy(further_controls=False, econ=False):\n",
    "    \n",
    "    dummy_list=['crisis']\n",
    "\n",
    "    results = {\n",
    "        consumer: model(dummy_list, consumer, further_controls=further_controls, econ=econ) \n",
    "        for consumer in ['slp', 'rlm']\n",
    "    }\n",
    "    \n",
    "    fig, (ax1, ax2) = plt.subplots(1, 2, figsize=(9,4.5), sharey='row', gridspec_kw={'width_ratios': [1,1.4]})\n",
    "\n",
    "    res = {m: extract_results(dummy_list, value) for m, value in results['slp'].items()}\n",
    "    ax1 = plot_waterfall(ax1, res, 'slp', 'Estimated change in demand ' + ('(%)' if log else '(TWh/d)'))\n",
    "\n",
    "    res = {m: extract_results(dummy_list, value) for m, value in results['rlm'].items()}\n",
    "    ax2 = plot_waterfall(ax2, res, 'rlm')\n",
    "\n",
    "    plt.tight_layout()\n",
    "    plt.savefig(f'one_dummy{\"_log\" if log else \"\"}.png', dpi=300)\n",
    "    \n",
    "    return results"
   ]
  },
  {
   "cell_type": "markdown",
   "metadata": {},
   "source": [
    "Logarithmic results for small consumers are very sensitive to changes in \"crisis start\""
   ]
  },
  {
   "cell_type": "code",
   "execution_count": 11,
   "metadata": {},
   "outputs": [
    {
     "name": "stderr",
     "output_type": "stream",
     "text": [
      "<ipython-input-9-854ee88b05be>:37: MatplotlibDeprecationWarning: Passing the minor parameter of set_ticks() positionally is deprecated since Matplotlib 3.2; the parameter will become keyword-only two minor releases later.\n",
      "  ax.set_xticks(\n"
     ]
    },
    {
     "data": {
      "image/png": "[encoded data removed]",
      "text/plain": [
       "<Figure size 648x324 with 2 Axes>"
      ]
     },
     "metadata": {
      "needs_background": "light"
     },
     "output_type": "display_data"
    }
   ],
   "source": [
    "log=True\n",
    "fitting_start = \"2017-01-01\"\n",
    "crisis_start = \"2021-09-01\"\n",
    "results_log = one_dummy(econ=True)"
   ]
  },
  {
   "cell_type": "code",
   "execution_count": 12,
   "metadata": {},
   "outputs": [
    {
     "name": "stderr",
     "output_type": "stream",
     "text": [
      "<ipython-input-9-854ee88b05be>:37: MatplotlibDeprecationWarning: Passing the minor parameter of set_ticks() positionally is deprecated since Matplotlib 3.2; the parameter will become keyword-only two minor releases later.\n",
      "  ax.set_xticks(\n"
     ]
    },
    {
     "data": {
      "image/png": "[encoded data removed]",
      "text/plain": [
       "<Figure size 648x324 with 2 Axes>"
      ]
     },
     "metadata": {
      "needs_background": "light"
     },
     "output_type": "display_data"
    }
   ],
   "source": [
    "log=True\n",
    "fitting_start = \"2017-01-01\"\n",
    "crisis_start = \"2021-08-01\"\n",
    "results_log = one_dummy(econ=True)"
   ]
  },
  {
   "cell_type": "markdown",
   "metadata": {},
   "source": [
    "* Linear results are robust against crisis start --> preferred specification\n",
    "* Economic activity does not change a lot --> leave out for main model\n",
    "* 0.1 TWh/d is 10% of industrial demand (366 TWh/y = 1 TWh/d)"
   ]
  },
  {
   "cell_type": "code",
   "execution_count": 13,
   "metadata": {},
   "outputs": [
    {
     "name": "stderr",
     "output_type": "stream",
     "text": [
      "<ipython-input-9-854ee88b05be>:37: MatplotlibDeprecationWarning: Passing the minor parameter of set_ticks() positionally is deprecated since Matplotlib 3.2; the parameter will become keyword-only two minor releases later.\n",
      "  ax.set_xticks(\n"
     ]
    },
    {
     "data": {
      "image/png": "[encoded data removed]",
      "text/plain": [
       "<Figure size 648x324 with 2 Axes>"
      ]
     },
     "metadata": {
      "needs_background": "light"
     },
     "output_type": "display_data"
    }
   ],
   "source": [
    "log=False\n",
    "fitting_start = \"2017-01-01\"\n",
    "crisis_start = \"2021-09-01\"\n",
    "results = one_dummy(econ=True)"
   ]
  },
  {
   "cell_type": "code",
   "execution_count": 14,
   "metadata": {},
   "outputs": [
    {
     "name": "stderr",
     "output_type": "stream",
     "text": [
      "<ipython-input-9-854ee88b05be>:37: MatplotlibDeprecationWarning: Passing the minor parameter of set_ticks() positionally is deprecated since Matplotlib 3.2; the parameter will become keyword-only two minor releases later.\n",
      "  ax.set_xticks(\n"
     ]
    },
    {
     "data": {
      "image/png": "[encoded data removed]",
      "text/plain": [
       "<Figure size 648x324 with 2 Axes>"
      ]
     },
     "metadata": {
      "needs_background": "light"
     },
     "output_type": "display_data"
    }
   ],
   "source": [
    "log=False\n",
    "fitting_start = \"2017-01-01\"\n",
    "crisis_start = \"2021-08-01\"\n",
    "results = one_dummy(econ=True)"
   ]
  },
  {
   "cell_type": "code",
   "execution_count": 15,
   "metadata": {},
   "outputs": [
    {
     "name": "stderr",
     "output_type": "stream",
     "text": [
      "<ipython-input-9-854ee88b05be>:37: MatplotlibDeprecationWarning: Passing the minor parameter of set_ticks() positionally is deprecated since Matplotlib 3.2; the parameter will become keyword-only two minor releases later.\n",
      "  ax.set_xticks(\n"
     ]
    },
    {
     "data": {
      "image/png": "[encoded data removed]",
      "text/plain": [
       "<Figure size 648x324 with 2 Axes>"
      ]
     },
     "metadata": {
      "needs_background": "light"
     },
     "output_type": "display_data"
    }
   ],
   "source": [
    "log=False\n",
    "fitting_start = \"2017-01-01\"\n",
    "crisis_start = \"2021-08-01\"\n",
    "results = one_dummy()"
   ]
  },
  {
   "cell_type": "code",
   "execution_count": 16,
   "metadata": {},
   "outputs": [
    {
     "ename": "KeyError",
     "evalue": "'temp+econ'",
     "output_type": "error",
     "traceback": [
      "\u001b[0;31m---------------------------------------------------------------------------\u001b[0m",
      "\u001b[0;31mKeyError\u001b[0m                                  Traceback (most recent call last)",
      "\u001b[0;32m<ipython-input-16-533bdd926a6f>\u001b[0m in \u001b[0;36m<module>\u001b[0;34m\u001b[0m\n\u001b[0;32m----> 1\u001b[0;31m \u001b[0mresid\u001b[0m \u001b[0;34m=\u001b[0m \u001b[0mresults\u001b[0m\u001b[0;34m[\u001b[0m\u001b[0;34m'slp'\u001b[0m\u001b[0;34m]\u001b[0m\u001b[0;34m[\u001b[0m\u001b[0;34m'temp+econ'\u001b[0m\u001b[0;34m]\u001b[0m\u001b[0;34m.\u001b[0m\u001b[0mfittedvalues\u001b[0m \u001b[0;34m-\u001b[0m \u001b[0mdfx\u001b[0m\u001b[0;34m[\u001b[0m\u001b[0;34m'slp'\u001b[0m\u001b[0;34m]\u001b[0m\u001b[0;34m\u001b[0m\u001b[0;34m\u001b[0m\u001b[0m\n\u001b[0m\u001b[1;32m      2\u001b[0m \u001b[0;34m\u001b[0m\u001b[0m\n\u001b[1;32m      3\u001b[0m \u001b[0mplt\u001b[0m\u001b[0;34m.\u001b[0m\u001b[0mfigure\u001b[0m\u001b[0;34m(\u001b[0m\u001b[0mfigsize\u001b[0m\u001b[0;34m=\u001b[0m\u001b[0;34m(\u001b[0m\u001b[0;36m14\u001b[0m\u001b[0;34m,\u001b[0m \u001b[0;36m2\u001b[0m\u001b[0;34m)\u001b[0m\u001b[0;34m,\u001b[0m \u001b[0mdpi\u001b[0m\u001b[0;34m=\u001b[0m\u001b[0;36m150\u001b[0m\u001b[0;34m)\u001b[0m\u001b[0;34m\u001b[0m\u001b[0;34m\u001b[0m\u001b[0m\n\u001b[1;32m      4\u001b[0m \u001b[0;31m#results['slp']['temp+econ'].fittedvalues.plot(label='Fitted')\u001b[0m\u001b[0;34m\u001b[0m\u001b[0;34m\u001b[0m\u001b[0;34m\u001b[0m\u001b[0m\n\u001b[1;32m      5\u001b[0m \u001b[0;31m#dfx['slp'].plot(label='Observed')\u001b[0m\u001b[0;34m\u001b[0m\u001b[0;34m\u001b[0m\u001b[0;34m\u001b[0m\u001b[0m\n",
      "\u001b[0;31mKeyError\u001b[0m: 'temp+econ'"
     ]
    }
   ],
   "source": [
    "resid = results['slp']['temp+econ'].fittedvalues - dfx['slp'] \n",
    "\n",
    "plt.figure(figsize=(14, 2), dpi=150)\n",
    "#results['slp']['temp+econ'].fittedvalues.plot(label='Fitted')\n",
    "#dfx['slp'].plot(label='Observed')\n",
    "resid.plot(label='Residual')\n",
    "plt.axhline(0, color='black', linewidth=0.5)\n",
    "plt.legend()"
   ]
  },
  {
   "cell_type": "code",
   "execution_count": null,
   "metadata": {},
   "outputs": [],
   "source": [
    "resid = results['rlm']['temp+power+econ'].fittedvalues - dfx['rlm'] \n",
    "\n",
    "plt.figure(figsize=(14, 2), dpi=150)\n",
    "#results['rlm']['temp+power+econ'].fittedvalues.plot(label='Fitted')\n",
    "#dfx['rlm'].plot(label='Observed')\n",
    "resid.plot(label='Residual')\n",
    "plt.axhline(0, color='black', linewidth=0.5)\n",
    "plt.legend(loc='upper left')"
   ]
  },
  {
   "cell_type": "markdown",
   "metadata": {},
   "source": [
    "# Further controls"
   ]
  },
  {
   "cell_type": "code",
   "execution_count": null,
   "metadata": {},
   "outputs": [],
   "source": [
    "log=False\n",
    "fitting_start = \"2017-01-01\"\n",
    "crisis_start = \"2021-08-01\"\n",
    "results_fc = one_dummy(further_controls=True)"
   ]
  },
  {
   "cell_type": "markdown",
   "metadata": {},
   "source": [
    "# Quarterly dummies (not currently used)"
   ]
  },
  {
   "cell_type": "code",
   "execution_count": null,
   "metadata": {},
   "outputs": [],
   "source": [
    "mode = 'quarterly'\n",
    "crisis_start = \"2021-09-01\"\n",
    "dummy_list = []\n",
    "for date in pd.date_range(crisis_start, '2022-04', freq='3m'):\n",
    "    dummy_name = f'd{date.year}_{date.quarter}'\n",
    "    dfx.loc[dfx.index, dummy_name] = dfx.index.map(\n",
    "        lambda x: (x.year==date.year) & (x.quarter==date.quarter)\n",
    "    ).values\n",
    "    dummy_list.append(dummy_name)"
   ]
  },
  {
   "cell_type": "markdown",
   "metadata": {},
   "source": [
    "# Monthly dummies"
   ]
  },
  {
   "cell_type": "code",
   "execution_count": null,
   "metadata": {},
   "outputs": [],
   "source": [
    "mode = 'monthly'\n",
    "crisis_start = \"2021-04-01\"\n",
    "dummy_list = []\n",
    "for date in pd.date_range(crisis_start, '2022-04', freq='1m'):\n",
    "    dummy_name = f'd{date.year}_{date.month}'\n",
    "    dfx.loc[dfx.index, dummy_name] = dfx.index.map(\n",
    "        lambda x: (x.year==date.year) & (x.month==date.month)\n",
    "    ).values\n",
    "    dummy_list.append(dummy_name)"
   ]
  },
  {
   "cell_type": "code",
   "execution_count": null,
   "metadata": {},
   "outputs": [],
   "source": [
    "def plot_monthly(ax, results, consumer='rlm', ylabel=''):\n",
    "\n",
    "    colors = ['tab:blue'] + (['tab:green'] if consumer=='rlm' else []) + ['tab:red']\n",
    "    extracted_results = {m: extract_results(dummy_list, value) for m, value in results[consumer].items()}\n",
    "    \n",
    "    for i, (name, res) in enumerate(extracted_results.items()):\n",
    "        \n",
    "        idx = [j-0.3+0.2*i for j in range(len(res))]\n",
    "        ax.bar(idx, res['coef'], width=0.2,alpha=0.5, label=name, color=colors[i])\n",
    "        for j, d in enumerate(dummy_list):\n",
    "            plt.plot([idx[j], idx[j]], [res.loc[d, 'low'], res.loc[d, 'high']], \n",
    "                     color=colors[i])\n",
    "    ax.grid(axis='y')\n",
    "    ax.axhline(0, color='black', linewidth=0.5)\n",
    "    ax.set_ylabel(ylabel)\n",
    "    ax.set_title('Small consumers' if consumer=='slp' else 'Large consumers')\n",
    "    ax.set_xticks(\n",
    "        range(len(res)), \n",
    "        [d[6:] for d in dummy_list]\n",
    "    )"
   ]
  },
  {
   "cell_type": "code",
   "execution_count": null,
   "metadata": {},
   "outputs": [],
   "source": [
    "log=False\n",
    "results = {consumer: model(dummy_list, consumer) for consumer in ['slp', 'rlm']}\n",
    "fig = plt.figure(figsize=(11,6))\n",
    "ax = fig.add_subplot(111)\n",
    "plot_monthly(ax, results)\n",
    "plt.ylim(-0.4, 0.5)"
   ]
  },
  {
   "cell_type": "code",
   "execution_count": null,
   "metadata": {},
   "outputs": [],
   "source": [
    "fig = plt.figure(figsize=(11,6))\n",
    "ax = fig.add_subplot(111)\n",
    "plot_monthly(ax, results, 'slp')\n",
    "plt.ylim(-0.4, 0.5)"
   ]
  },
  {
   "cell_type": "code",
   "execution_count": null,
   "metadata": {},
   "outputs": [],
   "source": [
    "colors = ['tab:blue', 'tab:orange', 'tab:green', 'tab:purple']\n",
    "\n",
    "if mode=='monthly':\n",
    "    plt.figure(figsize=(8,4))\n",
    "\n",
    "for i, m in enumerate(['naive', 'temp']):\n",
    "    \n",
    "    extracted_results = extract_results(results=results['slp'][m], dummy_list=dummy_list)\n",
    "    \n",
    "    idx = [j-0.3+0.2*i for j in range(len(extracted_results))]\n",
    "    plt.bar(idx, extracted_results['coef'], width=0.2,alpha=0.5, label=m)\n",
    "    for j, d in enumerate(dummy_list):\n",
    "        plt.plot([idx[j],idx[j]], [extracted_results.loc[d, 'low'], extracted_results.loc[d, 'high']], \n",
    "                 color=colors[i])\n",
    "        \n",
    "for i in range(len(extracted_results)-1):\n",
    "    plt.axvline(i+0.5, color='black', linewidth=0.5)\n",
    "\n",
    "plt.grid(axis='y')\n",
    "plt.axhline(0, color='black', linewidth=0.5)\n",
    "plt.ylabel('Estimated demand reduction (%)')\n",
    "plt.title('Small consumers')\n",
    "#plt.ylim(-5, 5)\n",
    "#if mode=='monthly':\n",
    "#    plt.xticks(range(len(extracted_results)), \n",
    "#               [f'{date.month_name()[:3]}'+(f'\\n{date.year}' if date.month==1 else '')\n",
    "#                for date in pd.date_range('2021-01', '2022-04', freq='1m')])    \n",
    "#else:\n",
    "#    plt.xticks(range(len(extracted_results)), \n",
    "#               [f'Q{date.quarter}'+(f'\\n{date.year}' if date.quarter==1 else '')\n",
    "#                for date in pd.date_range('2021-01', '2022-04', freq='3m')])    \n",
    "plt.legend(loc='lower right')\n",
    "plt.savefig('slp_quarterly.png', dpi=300)"
   ]
  },
  {
   "cell_type": "code",
   "execution_count": null,
   "metadata": {
    "scrolled": true
   },
   "outputs": [],
   "source": [
    "dfx['log_slp'] = np.log(dfx['slp'])\n",
    "\n",
    "model = 'log_slp ~ 1 + w2h + time + C(month) + C(weekday) + ' + ' + '.join(dummy_list)\n",
    "results_slp_log = smf.ols(model, dfx.loc[fitting_start:]).fit(cov_type='HAC', cov_kwds={'maxlags':6})\n",
    "\n",
    "results_slp_log.summary()"
   ]
  },
  {
   "cell_type": "code",
   "execution_count": null,
   "metadata": {},
   "outputs": [],
   "source": [
    "extracted_results = extract_results(results_slp_log, dummy_list=dummy_list)\n",
    "ax = extracted_results['coef'].plot(kind='bar',alpha=0.5)\n",
    "for d in dummy_list:\n",
    "    plt.plot([d,d], [extracted_results.loc[d, 'low'], extracted_results.loc[d, 'high']], color='tab:blue')\n",
    "    \n",
    "plt.grid(axis='y')\n",
    "plt.axhline(0, color='black', linewidth=0.5)\n",
    "plt.ylabel('Estimated demand reduction (%)')\n",
    "plt.title('SLP')\n",
    "plt.ylim(-5, 25)"
   ]
  },
  {
   "cell_type": "markdown",
   "metadata": {},
   "source": [
    "## RLM"
   ]
  },
  {
   "cell_type": "code",
   "execution_count": null,
   "metadata": {
    "scrolled": true
   },
   "outputs": [],
   "source": [
    "dfx['log_rlm'] = np.log(dfx['rlm'])\n",
    "\n",
    "results_rlm_log = {}\n",
    "for m in ['naive', 'temp', 'temp+power', 'temp+power+econ']:\n",
    "    model = 'log_rlm ~ 1 + time + C(month) + C(weekday) + ' + ' + '.join(dummy_list)\n",
    "    if 'temp' in m:\n",
    "        model += ' + residential + commercial'\n",
    "    if 'power' in m:\n",
    "        model += ' + power'\n",
    "    if 'econ' in m:\n",
    "        model += ' + manu'\n",
    "    results_rlm_log[m] = smf.ols(model, dfx.loc[fitting_start:]).fit(cov_type='HAC', cov_kwds={'maxlags':6})\n",
    "\n",
    "results_rlm_log['temp+power+econ'].summary()"
   ]
  },
  {
   "cell_type": "code",
   "execution_count": null,
   "metadata": {},
   "outputs": [],
   "source": [
    "colors = ['tab:blue', 'tab:orange', 'tab:green', 'tab:purple']\n",
    "\n",
    "if mode=='monthly':\n",
    "    plt.figure(figsize=(8,4))\n",
    "\n",
    "for i, m in enumerate(['naive', 'temp', 'temp+power', 'temp+power+econ']):\n",
    "    \n",
    "    extracted_results = extract_results(results_rlm_log[m], dummy_list=dummy_list)\n",
    "    \n",
    "    idx = [j-0.3+0.2*i for j in range(len(extracted_results))]\n",
    "    plt.bar(idx, extracted_results['coef'], width=0.2,alpha=0.5, label=m)\n",
    "    for j, d in enumerate(dummy_list):\n",
    "        plt.plot([idx[j],idx[j]], [extracted_results.loc[d, 'low'], extracted_results.loc[d, 'high']], \n",
    "                 color=colors[i])\n",
    "        \n",
    "for i in range(len(extracted_results)-1):\n",
    "    plt.axvline(i+0.5, color='black', linewidth=0.5)\n",
    "\n",
    "plt.grid(axis='y')\n",
    "plt.axhline(0, color='black', linewidth=0.5)\n",
    "plt.ylabel('Estimated demand reduction (%)')\n",
    "plt.title('Large consumers')\n",
    "plt.ylim(-20, 25)\n",
    "if mode=='monthly':\n",
    "    plt.xticks(range(len(extracted_results)), \n",
    "               [f'{date.month_name()[:3]}'+(f'\\n{date.year}' if date.month==1 else '')\n",
    "                for date in pd.date_range('2021-01', '2022-04', freq='1m')])    \n",
    "else:\n",
    "    plt.xticks(range(len(extracted_results)), \n",
    "               [f'Q{date.quarter}'+(f'\\n{date.year}' if date.quarter==1 else '')\n",
    "                for date in pd.date_range('2021-01', '2022-04', freq='3m')])    \n",
    "plt.legend(loc='lower right')\n",
    "plt.savefig('rlm_log.png', dpi=300)"
   ]
  },
  {
   "cell_type": "markdown",
   "metadata": {},
   "source": [
    "# Linear models\n",
    "SLP"
   ]
  },
  {
   "cell_type": "code",
   "execution_count": null,
   "metadata": {
    "scrolled": true
   },
   "outputs": [],
   "source": [
    "model = 'slp ~ 1 + w2h + time + C(month) + C(weekday) + ' + ' + '.join(dummy_list)\n",
    "results_slp = smf.ols(model, dfx.loc[fitting_start:]).fit(cov_type='HAC', cov_kwds={'maxlags':6})\n",
    "\n",
    "results_slp.summary()"
   ]
  },
  {
   "cell_type": "code",
   "execution_count": null,
   "metadata": {},
   "outputs": [],
   "source": [
    "extracted_results = extract_results(results_slp, log=False)\n",
    "ax = extracted_results['coef'].plot(kind='bar',alpha=0.5)\n",
    "for d in dummy_list:\n",
    "    plt.plot([d,d], [extracted_results.loc[d, 'low'], extracted_results.loc[d, 'high']], color='tab:blue')\n",
    "    \n",
    "plt.grid(axis='y')\n",
    "plt.axhline(0, color='black', linewidth=0.5)\n",
    "plt.ylabel('Estimated demand reduction (TWh/d)')\n",
    "plt.title('SLP')\n",
    "plt.ylim(-0.05, 0.7)"
   ]
  },
  {
   "cell_type": "markdown",
   "metadata": {},
   "source": [
    "RLM"
   ]
  },
  {
   "cell_type": "code",
   "execution_count": null,
   "metadata": {
    "scrolled": true
   },
   "outputs": [],
   "source": [
    "results_rlm = {}\n",
    "for m in ['naive', 'temp', 'temp+power', 'temp+power+econ']:\n",
    "    model = 'rlm ~ 1 + time + C(month) + C(weekday) + ' + ' + '.join(dummy_list)\n",
    "    if 'temp' in m:\n",
    "        model += ' + w2h'\n",
    "    if 'power' in m:\n",
    "        model += ' + power + power2 '\n",
    "    if 'econ' in m:\n",
    "        model += ' + econ'\n",
    "    results_rlm[m] = smf.ols(model, dfx.loc[fitting_start:]).fit(cov_type='HAC', cov_kwds={'maxlags':6})\n",
    "\n",
    "results_rlm['temp'].summary()"
   ]
  },
  {
   "cell_type": "code",
   "execution_count": null,
   "metadata": {},
   "outputs": [],
   "source": [
    "colors = ['tab:blue', 'tab:orange', 'tab:green', 'tab:purple']\n",
    "\n",
    "for i, m in enumerate(['naive', 'temp', 'temp+power', 'temp+power+econ']):\n",
    "    \n",
    "    extracted_results = extract_results(results_rlm[m], log=False)\n",
    "    \n",
    "    idx = [j-0.2+0.2*i for j in range(len(extracted_results))]\n",
    "    plt.bar(idx, extracted_results['coef'], width=0.2,alpha=0.5, label=m)\n",
    "    for j, d in enumerate(dummy_list):\n",
    "        plt.plot([idx[j],idx[j]], [extracted_results.loc[d, 'low'], extracted_results.loc[d, 'high']], \n",
    "                 color=colors[i])\n",
    "        \n",
    "for i in range(len(extracted_results)-1):\n",
    "    plt.axvline(i+0.5, color='black', linewidth=0.5)\n",
    "\n",
    "plt.grid(axis='y')\n",
    "plt.axhline(0, color='black', linewidth=0.5)\n",
    "plt.ylabel('Estimated demand reduction (TWh/d)')\n",
    "plt.title('RLM')\n",
    "plt.ylim(-0.25, 0.15)\n",
    "plt.xticks(range(len(extracted_results)), \n",
    "           [f'Q{date.quarter}'+(f'\\n{date.year}' if date.quarter==1 else '')\n",
    "            for date in pd.date_range('2021-01', '2022-04', freq='3m')])    \n",
    "plt.legend(loc='lower right')\n",
    "plt.savefig('rlm.png', dpi=300)"
   ]
  },
  {
   "cell_type": "markdown",
   "metadata": {},
   "source": [
    "# Disaggregation based on fundamental assumption / energy balances"
   ]
  },
  {
   "cell_type": "code",
   "execution_count": null,
   "metadata": {},
   "outputs": [],
   "source": [
    "plt.figure(figsize=(10,5))\n",
    "\n",
    "#weekly\n",
    "dft = df.resample(\"1w\").mean().dropna()\n",
    "plt.xlim(dft.index[[0, -1]])\n",
    "\n",
    "upper=dft['slp']\n",
    "plt.plot(dft.index, dft['slp'], label='THE SLP', color=\"k\")\n",
    "\n",
    "for sector, h in [\n",
    "    (\"residential\", \"\"), \n",
    "    (\"commercial\",  \"\\\\\\\\\"), \n",
    "    (\"decentral_chp\", \"...\"),\n",
    "    (\"industry_buildings\", \"XX\")\n",
    "]:\n",
    "    plt.fill_between(\n",
    "        dft.index, upper-dft[sector], upper, label=sector,\n",
    "        color=\"tab:orange\", hatch=h, edgecolor=\"k\", alpha=0.5)\n",
    "    upper = upper-dft[sector]\n",
    "\n",
    "plt.plot(upper.index, upper, color=\"red\", label=\"residual_SLP\")\n",
    "\n",
    "plt.ylim(-0.2, 3)\n",
    "plt.axvline(pd.Timestamp('2022-01-01'), color='black', linewidth=0.7)\n",
    "plt.grid()\n",
    "plt.legend(loc='center right', bbox_to_anchor=(1.21, 0.5))\n",
    "plt.ylabel('Gas consumption (TWh/d)')\n",
    "\n",
    "X = plt.gca().xaxis\n",
    "X.set_major_locator(mdates.MonthLocator())\n",
    "X.set_major_formatter(mdates.DateFormatter('%b'))"
   ]
  },
  {
   "cell_type": "code",
   "execution_count": null,
   "metadata": {},
   "outputs": [],
   "source": [
    "plt.figure(figsize=(10,5))\n",
    "\n",
    "dft= df.resample(\"1w\").mean()\n",
    "the_rlm = dft['rlm']\n",
    "the_rlm.plot(label='THE RLM', color=\"k\")\n",
    "\n",
    "power_res = the_rlm - dft['gas_to_electricity']\n",
    "industry = dft[\"industry_buildings\"]\n",
    "\n",
    "upper=the_rlm\n",
    "for sector, c, label in [\n",
    "    (industry,\"tab:red\",\"industry_buildings\"), \n",
    "    (dft['gas_to_electricity'],  \"tab:green\", \"power sector\")\n",
    "    # (dft[\"scaled_district_heat\"], \"tab:orange\", \"dist_heat\")\n",
    "]: \n",
    "    plt.fill_between(dft.index, upper-sector, upper , color=\"{}\".format(c), alpha=0.3, label=label)\n",
    "    upper = upper-sector \n",
    "\n",
    "upper.plot(color=\"red\", label=\"residual_RLM\")\n",
    "\n",
    "plt.xlim(power_res.dropna().index[[0, -1]])\n",
    "plt.ylim(0, 3.8)\n",
    "#plt.axvline('2022-01-01', color='black', linewidth=0.7)\n",
    "plt.grid()\n",
    "plt.legend(loc='upper right', bbox_to_anchor=(1.3, 0.5))\n",
    "plt.ylabel('Gas consumption (TWh/d)')\n",
    "\n",
    "plt.show()"
   ]
  },
  {
   "cell_type": "code",
   "execution_count": null,
   "metadata": {},
   "outputs": [],
   "source": [
    "df_x_no_holiday = dfx[(dfx.holiday==0) & (dfx.christmas_period==0) & (dfx.bridgeday==0)]"
   ]
  },
  {
   "cell_type": "code",
   "execution_count": null,
   "metadata": {},
   "outputs": [],
   "source": [
    "#SLP\n",
    "model_the_slp = smf.ols(\n",
    "    'slp ~ 1 + w2h + C(weekday) + C(month)', \n",
    "    data=dfx.loc[(dfx.index <= high_gas_date)&(dfx.index >= '2016-10-01')]\n",
    ")\n",
    "results_the_slp = model_the_slp.fit(cov_type='HAC', cov_kwds={'maxlags':6}) \n",
    "#results_the_slp.summary()\n",
    "\n"
   ]
  },
  {
   "cell_type": "code",
   "execution_count": null,
   "metadata": {},
   "outputs": [],
   "source": [
    "the_slp_prediction = results_the_slp.predict(df_x_no_holiday[df_x_no_holiday.index.year>=2021])\n",
    "the_slp_prediction.name = \"the_slp_forecast\"\n",
    "\n",
    "the_slp_combined = pd.concat([\n",
    "    the_slp_prediction, df_x_no_holiday.loc[df_x_no_holiday.index.year>=2021][\"slp\"]\n",
    "], axis=1, keys=[\"predicted\", \"reported\"])\n",
    "\n",
    "the_slp_combined.resample(\"1w\").sum().plot(ylim=0).set_ylabel(\"gas consumption [TWh/w]\")\n",
    "plt.axvline(x=\"2022-02-24\", color='k', linestyle='--', lw=1.2)\n",
    "plt.grid() \n",
    "\n",
    "\n",
    "plt.show()\n",
    "\n",
    "delta_the_slp = the_slp_combined.iloc[:,1]-the_slp_combined.iloc[:,0]\n",
    "\n",
    "ax = delta_the_slp.loc[delta_the_slp.index.year==2022].resample(\"w\").sum().plot()\n",
    "ax.axvline(x=invasion_date, color='k', linestyle='-.', lw=1.2 )\n",
    "ax.axhline(y=0, color='k', lw=1)\n",
    "plt.grid()\n",
    "ax.set_xlabel(\"year\",fontsize=14)\n",
    "ax.set_ylabel(\"regression delta [TWh/w]\", fontsize=14)\n",
    "\n",
    "\n"
   ]
  },
  {
   "cell_type": "markdown",
   "metadata": {},
   "source": [
    "# Regression variations"
   ]
  },
  {
   "cell_type": "markdown",
   "metadata": {},
   "source": [
    "## Prices"
   ]
  },
  {
   "cell_type": "code",
   "execution_count": null,
   "metadata": {},
   "outputs": [],
   "source": [
    "model_the_prices = smf.ols('rlm ~ 1 + prices + w2h + power + econ + C(weekday)', \n",
    "                            data=df_x_no_holiday)\n",
    "results_the_prices = model_the_prices.fit(cov_type='HAC', cov_kwds={'maxlags':6}) \n",
    "#results_the_prices.summary()"
   ]
  },
  {
   "cell_type": "markdown",
   "metadata": {},
   "source": [
    "## Dummies"
   ]
  },
  {
   "cell_type": "code",
   "execution_count": null,
   "metadata": {},
   "outputs": [],
   "source": [
    "dummy = pd.concat([\n",
    "    pd.Series(1, index=df_x_no_holiday.index[df_x_no_holiday.index>=high_gas_date]),\n",
    "    pd.Series(0, index=df_x_no_holiday.index[df_x_no_holiday.index<high_gas_date])\n",
    "])\n",
    "\n",
    "df_x_no_holiday[\"D\"] = dummy"
   ]
  },
  {
   "cell_type": "code",
   "execution_count": null,
   "metadata": {},
   "outputs": [],
   "source": [
    "result_dict = {\n",
    "    \"only_slp\": {},\n",
    "    \"no_econ\": {},\n",
    "    \"all\": {}\n",
    "}\n",
    "\n",
    "#2020/09-2021/08 (before high gas prices)\n",
    "\n",
    "model_rdd_only_slp = smf.ols('rlm ~ 1 +  D + w2h + C(weekday)', data=df_x_no_holiday)\n",
    "results_rdd_only_slp = model_rdd_only_slp.fit(cov_type='HAC', cov_kwds={'maxlags':6})\n",
    "\n",
    "model_rdd_no_econ = smf.ols('rlm ~ 1 + D+ w2h + power + C(weekday)', data=df_x_no_holiday)\n",
    "results_rdd_no_econ = model_rdd_no_econ.fit(cov_type='HAC', cov_kwds={'maxlags':6}) \n",
    "\n",
    " \n",
    "model_rdd_all = smf.ols('rlm ~ 1 + D+ w2h + power + econ + C(weekday)', data=df_x_no_holiday)\n",
    "results_rdd_all = model_rdd_all.fit(cov_type='HAC', cov_kwds={'maxlags':6}) "
   ]
  },
  {
   "cell_type": "code",
   "execution_count": null,
   "metadata": {},
   "outputs": [],
   "source": [
    "ax = pd.DataFrame(\n",
    "    data=np.array([\n",
    "    (results_rdd_all.params.D, results_rdd_no_econ.params.D,  results_rdd_only_slp.params.D), \n",
    "    ]), index=[\"10/2021 - 04/2022\"], columns=[\"only_slp\", \"no_econ\", \"all\"]\n",
    ").plot(kind=\"bar\", rot=0)\n",
    "             \n",
    "ax.set_ylabel(\"estimated reduction [%]\")"
   ]
  },
  {
   "cell_type": "code",
   "execution_count": null,
   "metadata": {},
   "outputs": [],
   "source": [
    "dummy_coefficients = pd.DataFrame(columns=[\"dummy_coefficients\", \"P_value\"])\n",
    "\n",
    "for date in pd.date_range(\"2020-01-01\", \"2022-03-01\", freq=\"M\"):\n",
    "    \n",
    "    dummy = pd.concat([\n",
    "        pd.Series(0,index=df_x_no_holiday.index[df_x_no_holiday.index<date.strftime('%Y-%m-%d')]),\n",
    "        pd.Series(1,index=df_x_no_holiday.index[df_x_no_holiday.index>=date.strftime('%Y-%m-%d')]),\n",
    "    ])\n",
    "    \n",
    "    df_x_no_holiday[\"dummy\"] = dummy\n",
    "    \n",
    "    model = 'rlm ~ 1 + dummy + w2h + time + power + econ + C(weekday)'\n",
    "    results = smf.ols(model, df_x_no_holiday).fit(cov_type='HAC', cov_kwds={'maxlags':6})\n",
    "    \n",
    "    dummy_coefficients.loc[date.strftime('%Y-%m-%d'), \"dummy_coefficients\"] = results.params.dummy\n",
    "    dummy_coefficients.loc[date.strftime('%Y-%m-%d'), \"P_value\"] = pd.read_html(results.summary().tables[1].as_html(),header=0,index_col=0)[0].loc[\"dummy\"][\"P>|z|\"]"
   ]
  },
  {
   "cell_type": "code",
   "execution_count": null,
   "metadata": {},
   "outputs": [],
   "source": [
    "dummy_coefficients.plot()\n",
    "plt.grid()"
   ]
  },
  {
   "cell_type": "markdown",
   "metadata": {},
   "source": [
    "### Fitting period variation"
   ]
  },
  {
   "cell_type": "code",
   "execution_count": null,
   "metadata": {},
   "outputs": [],
   "source": [
    "#2020/09-2021/08 (before high gas prices)\n",
    "model_the_20_09 = smf.ols('rlm ~ 1 + w2h + power + econ + C(weekday)', data=df_x_no_holiday.loc[\n",
    "    (df_x_no_holiday.index <= high_gas_date)&(df_x_no_holiday.index >= '2020-09-01')])\n",
    "results_the_20_09 = model_the_20_09.fit(cov_type='HAC', cov_kwds={'maxlags':6}) \n",
    "\n",
    "model_the_16_10 = smf.ols('rlm ~ 1 + w2h + power + econ + C(weekday)', data=df_x_no_holiday.loc[\n",
    "    (df_x_no_holiday.index <=  high_gas_date)&(df_x_no_holiday.index >= '2016-10-01')])\n",
    "results_the_16_10 = model_the_16_10.fit(cov_type='HAC', cov_kwds={'maxlags':6}) \n",
    "\n",
    "result_list = [\n",
    "    (results_the_20_09,\"fitting period: 2020/09 - 2021/08\", '2020-09-01', high_gas_date),\n",
    "    (results_the_16_10,\"fitting period: 2016/10 - 2021/08\", '2016-10-01', high_gas_date)\n",
    "]\n",
    "\n",
    "#results_the_20_09.summary()\n",
    "#results_the_16_10.summary()"
   ]
  },
  {
   "cell_type": "markdown",
   "metadata": {},
   "source": [
    "### Controlvariable variation"
   ]
  },
  {
   "cell_type": "code",
   "execution_count": null,
   "metadata": {},
   "outputs": [],
   "source": [
    "#2020/09-2021/08 (before high gas prices)\n",
    "result_list_2016 = []\n",
    "for model_name in [\"only_slp\", \"no_econ\", \"all\"]:\n",
    "    \n",
    "    model = smf.ols(\n",
    "        'rlm ~ 1 + w2h + C(weekday)' \n",
    "        + ('+ power' if model_name != 'only_slp' else '')\n",
    "        + ('+ econ' if model_name == 'all' else '')\n",
    "        , data=df_x_no_holiday.loc[\n",
    "        (df_x_no_holiday.index <= high_gas_date)&(df_x_no_holiday.index >= '2020-10-01')]\n",
    "    )\n",
    "    results = model.fit() \n",
    "\n",
    "    result_list_2016.append((results, model_name))"
   ]
  },
  {
   "cell_type": "code",
   "execution_count": null,
   "metadata": {},
   "outputs": [],
   "source": [
    "def prediction(df, name, start_pred, rlm=True):\n",
    "    delta = pd.DataFrame()\n",
    "    key_list = [\"reported\"]\n",
    "\n",
    "    if rlm == True:\n",
    "        rlm_slp = \"rlm\"\n",
    "    else: \n",
    "        rlm_slp = \"slp\"\n",
    "        \n",
    "    df_pred = df.predict(df_x_no_holiday[df_x_no_holiday.index>=start_pred])\n",
    "    \n",
    "    df_pred.name = f\"{name}_forecast\"\n",
    "\n",
    "    combined = pd.concat([\n",
    "        df_pred, df_x_no_holiday.loc[df_x_no_holiday.index>=start_pred][rlm_slp]\n",
    "    ], axis=1, keys=[name, \"reported\"])\n",
    "    print(combined.loc[(combined.index >=start_pred)].mean())\n",
    "    ts = (combined.iloc[:,1]-combined.iloc[:,0])\n",
    "    ts.name = name \n",
    "    delta = pd.concat([delta, ts], axis=1)\n",
    "    \n",
    "    return combined, delta, key_list"
   ]
  },
  {
   "cell_type": "code",
   "execution_count": null,
   "metadata": {},
   "outputs": [],
   "source": [
    "result_dict = {\n",
    "    \"only_slp\": {},\n",
    "    \"no_econ\": {},\n",
    "    \"all\": {}\n",
    "}\n",
    "\n",
    "expected_amount = df_x_no_holiday.loc[df_x_no_holiday.index>=high_gas_date][\"rlm\"].sum()"
   ]
  },
  {
   "cell_type": "code",
   "execution_count": null,
   "metadata": {},
   "outputs": [],
   "source": [
    "start_pred = high_gas_date\n",
    "\n",
    "for df, name in result_list_2016:\n",
    "    \n",
    "    combined, delta, key_list = prediction(df, name, start_pred)\n",
    "    \n",
    "    result_dict[name] = (\n",
    "        delta[name][delta[name].index <= high_gas_date].sum() / expected_amount\n",
    "    )"
   ]
  },
  {
   "cell_type": "code",
   "execution_count": null,
   "metadata": {},
   "outputs": [],
   "source": [
    "ax = (pd.DataFrame.from_dict(result_dict, orient=\"index\").transpose()*100).plot(kind = \"bar\", rot=45, xticks=[])\n",
    "ax.set_ylabel(\"estimated reduction [%]\")\n",
    "\n"
   ]
  },
  {
   "cell_type": "code",
   "execution_count": null,
   "metadata": {},
   "outputs": [],
   "source": [
    "for df, name, start_pred, end_pred in result_list:\n",
    "    \n",
    "    combined, delta, key_list = prediction(df, name, start_pred)\n",
    "    \n",
    "    ax = combined.loc[\"2020-09-01\":].resample(\"1w\").sum().plot(ylim=0, xlim=(\"2020-09-01\", \"2022-04-30\"), title = name)\n",
    "    ax.axvline(x=\"2022-02-24\", color='k', linestyle='--', lw=1.2 )\n",
    "    ax.axvline(x=\"2021-08-31\", color='k', linestyle='-.', lw=1.2 )\n",
    "    \n",
    "    ax.text((pd.to_datetime(high_gas_date)-pd.Timedelta(18, \"days\")).strftime('%Y-%m-%d'), 0.8, \"gas prices\" +\"\\n\"+\"\\n\" + \"> 50€/MWh\", size=10, rotation=90)\n",
    "    ax.text((pd.to_datetime(invasion_date)-pd.Timedelta(30, \"days\")).strftime('%Y-%m-%d'), 0.8, \"gas prices > 100€/MWh\" + \"\\n\" +\"\\n\" + \"invasion of Ukraine\", size=10, rotation=90)\n",
    "    \n",
    "    fit = ax.text(\n",
    "        (pd.to_datetime(high_gas_date)-pd.Timedelta(6, \"days\")).strftime('%Y-%m-%d'), 18, \"fitting\", ha=\"right\", va=\"top\", rotation=0, size=10,\n",
    "        bbox=dict(boxstyle=\"larrow,pad=0.3\", fc=\"white\", ec=\"black\", lw=2))\n",
    "    forecast = ax.text(\n",
    "        (pd.to_datetime(high_gas_date)+pd.Timedelta(6, \"days\")).strftime('%Y-%m-%d'), 16, \"forecast\", ha=\"left\", va=\"top\", rotation=0, size=10,\n",
    "        bbox=dict(boxstyle=\"rarrow,pad=0.3\", fc=\"white\", ec=\"black\", lw=2))\n",
    "    \n",
    "    plt.grid()\n",
    "    ax.set_ylabel(\"gas consumption [TWh/week]\")\n",
    "    ax.legend(loc='upper right', bbox_to_anchor=(1.65, 0.6))\n",
    "    \n",
    "    plt.show()\n",
    "    \n",
    "    key_list.append(name)\n",
    "    "
   ]
  },
  {
   "cell_type": "code",
   "execution_count": null,
   "metadata": {},
   "outputs": [],
   "source": [
    "delta.index = combined.index\n",
    "delta_rlm = delta.dropna()\n",
    "\n",
    "Q1_delta_rlm = delta_rlm[\"2022-02-24\":].sum(0)\n",
    "\n",
    "percent = Q1_delta_rlm / combined.loc[\"2022-02-24\":,\"reported\"].sum(0)*100\n",
    "\n",
    "weekly_rlm = Q1_delta_rlm / len(delta_rlm[\"2022-02-24\":].index) * 7\n",
    "\n",
    "print(\n",
    "    \"since war [TWh]:\"+ \"\\n\"+ str(Q1_delta_rlm) + \"\\n\" + \"\\n\" +\n",
    "    \"since war [%]:\" + \"\\n\"+ str(percent) + \"\\n\" + \"\\n\" +\n",
    "    \"weekly [TWh]:\" + \"\\n\"+ str(weekly_rlm)\n",
    "     )"
   ]
  },
  {
   "cell_type": "code",
   "execution_count": null,
   "metadata": {},
   "outputs": [],
   "source": [
    "resampled = delta_rlm.resample(\"1w\").sum()\n",
    "\n",
    "resampled.loc[resampled.index>=\"2021-08-01\"].plot(ylim=delta_rlm[\"2022-02-24\":].min().min(),  title=\"Estimation error\").set_ylabel(\"gas consumption [TWh/week]\")\n",
    "plt.grid() \n",
    "plt.legend(loc='upper right', bbox_to_anchor=(1.7, 0.5))\n",
    "\n",
    "plt.ylim(resampled.min()[0], resampled.max()[0])\n",
    "\n",
    "\n",
    "plt.axvline(x=\"2022-02-24\", color='k', linestyle='--', lw=1.2 )\n",
    "plt.axvline(x=\"2021-08-31\", color='k', linestyle='-.', lw=1.2 )\n",
    "\n",
    "plt.text((pd.to_datetime(high_gas_date)-pd.Timedelta(9, \"days\")).strftime('%Y-%m-%d'), -0.7, \"gas prices > 50€/MWh\", size=10, rotation=90)\n",
    "plt.text((pd.to_datetime(invasion_date)-pd.Timedelta(9, \"days\")).strftime('%Y-%m-%d'), -0.7, \"gas prices > 100€/MWh\" + \", invasion \", size=10, rotation=90)\n",
    "\n",
    "plt.ylabel(\"gas consumption [TWh/week]\")\n",
    "plt.legend(loc='upper right', bbox_to_anchor=(1.65, 0.6))\n",
    "plt.xlabel(\"time\",fontsize=14)\n",
    "plt.axhline(y=0, color='k', lw=1)\n",
    "\n",
    "fit = plt.text(\n",
    "    (pd.to_datetime(high_gas_date)-pd.Timedelta(0, \"days\")).strftime('%Y-%m-%d'), 7, \"fitting\", ha=\"right\", va=\"top\", rotation=0, size=10,\n",
    "    bbox=dict(boxstyle=\"larrow,pad=0.3\", fc=\"white\", ec=\"black\", lw=2))\n",
    "forecast = plt.text(\n",
    "    (pd.to_datetime(high_gas_date)+pd.Timedelta(0, \"days\")).strftime('%Y-%m-%d'), 6, \"forecast\", ha=\"left\", va=\"top\", rotation=0, size=10,\n",
    "    bbox=dict(boxstyle=\"rarrow,pad=0.3\", fc=\"white\", ec=\"black\", lw=2))"
   ]
  },
  {
   "cell_type": "code",
   "execution_count": null,
   "metadata": {},
   "outputs": [],
   "source": [
    "fig,ax = plt.subplots()\n",
    "\n",
    "column = delta_rlm.columns#[1] \n",
    "data = delta_rlm.loc[delta_rlm.index.year==2022, column].resample(\"w\").sum()\n",
    "\n",
    "ax.plot(data, label=column)\n",
    "\n",
    "ax.set_ylim(data.min()[0], data.max()[0])\n",
    "ax.set_xlabel(\"time\",fontsize=14)\n",
    "ax.set_ylabel(\"regression delta [TWh/w]\", fontsize=14)\n",
    "\n",
    "step_size = 20 / 110*((data.max() - data.min())[0]) \n",
    "ax.set_yticks(np.arange(data.min()[0], data.max()[0], step_size))\n",
    "\n",
    "ax.legend(loc=(1.1,0.9))\n",
    "\n",
    "ax2=ax.twinx()\n",
    "ax2.plot(df_x_no_holiday[\"prices\"][df_x_no_holiday.index.year==2022].resample(\"w\").mean(), color=\"green\", label=\"gas_price [€/MWh]\")\n",
    "\n",
    "ax2.set_ylabel(\"price [€/MWh]\", fontsize=14)\n",
    "ax2.set_ylim(70, 180)\n",
    "ax2.set_yticks(np.arange(70, 180, 20))\n",
    "\n",
    "ax2.legend(loc=(1.1,0.8))\n",
    "\n",
    "plt.axvline(x=invasion_date, color='k', lw=0.7)\n",
    "#plt.axhline(y=0, color='k', lw=1.2)\n",
    "\n",
    "X = plt.gca().xaxis\n",
    "X.set_major_locator(mdates.MonthLocator())\n",
    "X.set_major_formatter(mdates.DateFormatter('%b'))\n",
    "plt.grid()\n",
    "plt.show()"
   ]
  },
  {
   "cell_type": "markdown",
   "metadata": {},
   "source": [
    "## Augmented Dickey-Fuller test for stationarity"
   ]
  },
  {
   "cell_type": "code",
   "execution_count": null,
   "metadata": {
    "scrolled": true
   },
   "outputs": [],
   "source": [
    "print(adfuller(df_x_no_holiday['rlm'].dropna(), regression='nc'))\n",
    "\n",
    "# p = 0.04910444772233917 -> we can reject the null that the process has a unit root (it can still be seasonal non-stationary, however)\n",
    "\n",
    "print(adfuller(df_x_no_holiday['slp_w2h'].dropna(), regression='c'))\n",
    "\n",
    "# we can only reject at 10% confidence level but this might change if bug in 2022 data is fixed\n",
    "\n",
    "print(adfuller(df_x_no_holiday['power'].dropna(), regression='c'))\n",
    "\n",
    "# p = 0.0011084722880644524 -> we can reject the null that the process has a unit root (it can still be seasonal non-stationary, however))\n",
    "\n",
    "print(adfuller(df_x_no_holiday['power'].dropna(), regression='c'))\n",
    "\n",
    "# p = 6.344246220602208e-05 -> we can reject the null that the process has a unit root (it can still be seasonal non-stationary, however)"
   ]
  },
  {
   "cell_type": "markdown",
   "metadata": {},
   "source": [
    "## KPSS test for stationarity"
   ]
  },
  {
   "cell_type": "code",
   "execution_count": null,
   "metadata": {},
   "outputs": [],
   "source": [
    "kpss(df_x_no_holiday['rlm'].dropna(), regression='c')\n",
    "\n",
    "# p is very large -> we cannot reject the null that the process is (level) stationary (it can still be seasonal non-stationary, however)\n",
    "\n",
    "kpss(df_x_no_holiday['w2h'].dropna(), regression='c')\n",
    "\n",
    "# p is very large -> we cannot reject the null that the process is (level) stationary (it can still be seasonal non-stationary, however)\n",
    "\n",
    "kpss(df_x_no_holiday['power'].dropna(), regression='c')\n",
    "\n",
    "# p is very large -> we cannot reject the null that the process is (level) stationary (it can still be seasonal non-stationary, however)\n",
    "\n",
    "kpss(df_x_no_holiday['econ'].dropna(), regression='c')\n",
    "\n",
    "# p is very large -> we have to reject the null that the the process is (level) stationary\n",
    "# CHECK: this is counterintuitive as the DF test finds the opposite"
   ]
  },
  {
   "cell_type": "code",
   "execution_count": null,
   "metadata": {},
   "outputs": [],
   "source": []
  },
  {
   "cell_type": "code",
   "execution_count": null,
   "metadata": {},
   "outputs": [],
   "source": []
  },
  {
   "cell_type": "code",
   "execution_count": null,
   "metadata": {},
   "outputs": [],
   "source": []
  }
 ],
 "metadata": {
  "kernelspec": {
   "display_name": "Python 3",
   "language": "python",
   "name": "python3"
  },
  "language_info": {
   "codemirror_mode": {
    "name": "ipython",
    "version": 3
   },
   "file_extension": ".py",
   "mimetype": "text/x-python",
   "name": "python",
   "nbconvert_exporter": "python",
   "pygments_lexer": "ipython3",
   "version": "3.8.5"
  }
 },
 "nbformat": 4,
 "nbformat_minor": 5
}
