{
 "cells": [
  {
   "cell_type": "code",
   "execution_count": 1,
   "id": "6e63166d",
   "metadata": {},
   "outputs": [],
   "source": [
    "import os\n",
    "import shutil\n",
    "import pandas as pd\n",
    "import holidays\n",
    "from time import time\n",
    "from datetime import date, datetime, timezone\n",
    "import matplotlib.pyplot as plt\n",
    "import matplotlib.dates as mdates\n",
    "import matplotlib.ticker as ticker"
   ]
  },
  {
   "cell_type": "code",
   "execution_count": 2,
   "id": "36e2c791",
   "metadata": {},
   "outputs": [],
   "source": [
    "top_down_path = os.getcwd()\n",
    "os.chdir(\"../Data\")\n",
    "data_path = os.getcwd()\n",
    "os.chdir(top_down_path)"
   ]
  },
  {
   "cell_type": "markdown",
   "id": "b5176848",
   "metadata": {},
   "source": [
    "# Aggregated demand data"
   ]
  },
  {
   "cell_type": "code",
   "execution_count": 31,
   "id": "6da1e7b6",
   "metadata": {},
   "outputs": [],
   "source": [
    "def to_datetime(df, col_name):\n",
    "    try:\n",
    "        df.index = df[col_name].apply(lambda x: pd.to_datetime(str(x), format='%d.%m.%Y', utc=True))\n",
    "    except:\n",
    "        df.index = df[col_name].apply(lambda x: pd.to_datetime(str(x), format='%d/%m/%Y', utc=True))    \n",
    "    df.index = df.index.date\n",
    "    df.index = pd.to_datetime(df.index) \n",
    "    return df.index"
   ]
  },
  {
   "cell_type": "markdown",
   "id": "fdd89c04",
   "metadata": {},
   "source": [
    "## Trading Hub Europe: SLPs & RLMs"
   ]
  },
  {
   "cell_type": "markdown",
   "id": "645b76d8",
   "metadata": {},
   "source": [
    "THE original data"
   ]
  },
  {
   "cell_type": "code",
   "execution_count": 32,
   "id": "afa08477",
   "metadata": {},
   "outputs": [],
   "source": [
    "#read\n",
    "the = pd.read_csv(os.path.join(data_path, \"THE.csv\"), sep=\";\")\n",
    "the.index = to_datetime(the, \"Gastag\")\n",
    "\n",
    "\n",
    "the_new = pd.read_csv(os.path.join(data_path, \"THE_new.csv\"), sep=\";\")\n",
    "the_new.index = to_datetime(the_new, \"Gasday\")\n",
    "#the_new.index = the_new[\"Gasday\"]\n",
    "#the_new.index = to_datetime(the_new, the_new.index)\n",
    "\n",
    "the = pd.concat([the, the_new], axis=0)\n",
    "\n",
    "#to numeric\n",
    "the = the[the.columns[~the.columns.isin([\"Gastag\", \"Status\", \"Gasday\", \"State\"])]].fillna(\"0\")\n",
    "the = the.iloc[::-1] \n",
    "the = the.apply(lambda x: x.apply(lambda y: float(y.replace(\".\", \"\").replace(\",\", \"\"))))\n",
    "\n",
    "#from kWh to TWh\n",
    "the = the / (10**9)"
   ]
  },
  {
   "cell_type": "markdown",
   "id": "49cb2737",
   "metadata": {},
   "source": [
    "Gas pool data from: https://www.tradinghub.eu/de-de/Download/Archiv-GASPOOL / \"Sonstiges\" / \"Aggregierte Verbrauchsdaten\""
   ]
  },
  {
   "cell_type": "code",
   "execution_count": 33,
   "id": "2da85fc4",
   "metadata": {},
   "outputs": [],
   "source": [
    "gaspool = pd.read_csv(os.path.join(data_path, \"gaspool.csv\"), sep=\";\")\n",
    "gaspool.index = to_datetime(gaspool, \"Datum\")\n",
    "gaspool.drop(\"Datum\", axis=1, inplace=True)\n",
    "\n",
    "#from MWh to TWh\n",
    "gaspool = gaspool / (10**6)"
   ]
  },
  {
   "cell_type": "markdown",
   "id": "2138a4a6",
   "metadata": {},
   "source": [
    "NCG data from:https://www.tradinghub.eu/de-de/Download/Archiv-NetConnect-Germany / \"Sonstiges\" / \"Aggregierte Verbrauchsdaten\""
   ]
  },
  {
   "cell_type": "code",
   "execution_count": 34,
   "id": "108acb2e",
   "metadata": {},
   "outputs": [],
   "source": [
    "#in KWh\n",
    "ncg = pd.read_csv(os.path.join(data_path, \"ncg.csv\"), sep=\";\")\n",
    "ncg.index = to_datetime(ncg, \"DayOfUse\")\n",
    "\n",
    "ncg.drop([\"DayOfUse\", \"Status\"], axis=1, inplace=True)\n",
    "ncg.drop(list(ncg.filter(like='Unit', axis=1).columns), axis=1, inplace=True)\n",
    "\n",
    "#from kWh to TWh\n",
    "ncg = ncg / (10**9)"
   ]
  },
  {
   "cell_type": "code",
   "execution_count": 35,
   "id": "53b3ff09",
   "metadata": {},
   "outputs": [],
   "source": [
    "def get_df_name(df):\n",
    "    return [x for x in globals() if globals()[x] is df][0]\n",
    "\n",
    "def return_summed_df(df, domain, name):\n",
    "    return df[df.filter(like=domain, axis=1).columns].sum(1).to_frame().rename(\n",
    "    columns={0:\"{}_{} [TWh]\".format(domain, name)})\n",
    "\n",
    "def sum_consumptions(df):    \n",
    "    name = get_df_name(df)\n",
    "    return return_summed_df(df, \"SLP\", name), return_summed_df(df, \"RLM\", name) \n",
    "\n",
    "def sum_single_col_dfs(df_1, df_2, slp_sum=True, **alternative_name):\n",
    "    if slp_sum==False:\n",
    "        name = alternative_name.values()\n",
    "        return (df_1.iloc[:,0] + df_2.iloc[:,0]).to_frame().rename(columns={\n",
    "            0:name}) \n",
    "    else: \n",
    "        name = get_df_name(df_1).split(\"_\")[0]\n",
    "        return (df_1.iloc[:,0] + df_2.iloc[:,0]).to_frame().rename(columns={\n",
    "            0:\"{}_sum [TWh]\".format(name)})"
   ]
  },
  {
   "cell_type": "code",
   "execution_count": 36,
   "id": "ea91e08a",
   "metadata": {},
   "outputs": [],
   "source": [
    "the_slp, the_rlm = sum_consumptions(the)\n",
    "gaspool_slp, gaspool_rlm = sum_consumptions(gaspool)\n",
    "ncg_slp, ncg_rlm = sum_consumptions(ncg)\n",
    "\n",
    "the_sum = sum_single_col_dfs(the_slp, the_rlm)\n",
    "gaspool_sum = sum_single_col_dfs(gaspool_slp, gaspool_rlm)\n",
    "ncg_sum = sum_single_col_dfs(ncg_slp, ncg_rlm)\n",
    "\n",
    "before_the_slp = sum_single_col_dfs(gaspool_slp, ncg_slp).loc[gaspool_slp.index]\n",
    "before_the_rlm = sum_single_col_dfs(gaspool_rlm, ncg_rlm).loc[gaspool_slp.index]\n",
    "before_the_sum = sum_single_col_dfs(ncg_sum, gaspool_sum, slp_sum=False, \n",
    "                                    alternative_name=\"aggregated_gaspool_ngc\").loc[gaspool_slp.index]\n",
    "\n",
    "the_whole_slp = pd.concat([the_slp, before_the_slp], axis = 0).sum(1).sort_index(\n",
    "    ).to_frame().rename(columns={0:\"the_combined_slp\"})\n",
    "the_whole_rlm = pd.concat([the_rlm.iloc[:,0], before_the_rlm], axis = 0).sum(1).sort_index(\n",
    "    ).to_frame().rename(columns={0:\"the_combined_rlm\"})\n",
    "the_whole_sum = pd.concat([the_sum, before_the_sum], axis = 0).sum(1).sort_index(\n",
    "    ).to_frame().rename(columns={0:\"the_combined_sum\"})"
   ]
  },
  {
   "cell_type": "code",
   "execution_count": 37,
   "id": "6268bc4f",
   "metadata": {},
   "outputs": [
    {
     "data": {
      "image/png": "[encoded data removed]",
      "text/plain": [
       "<Figure size 432x288 with 1 Axes>"
      ]
     },
     "metadata": {
      "needs_background": "light"
     },
     "output_type": "display_data"
    },
    {
     "data": {
      "image/png": "[encoded data removed]",
      "text/plain": [
       "<Figure size 432x288 with 1 Axes>"
      ]
     },
     "metadata": {
      "needs_background": "light"
     },
     "output_type": "display_data"
    }
   ],
   "source": [
    "series_all = pd.concat([before_the_sum, the_sum], axis=0)\n",
    "series_all.plot()\n",
    "series_all[\"2021-01-01\":].plot(ylim=0)\n",
    "plt.grid()"
   ]
  },
  {
   "cell_type": "code",
   "execution_count": 10,
   "id": "dbdd9de3",
   "metadata": {},
   "outputs": [
    {
     "data": {
      "text/plain": [
       "the_combined_slp    379.140945\n",
       "dtype: float64"
      ]
     },
     "execution_count": 10,
     "metadata": {},
     "output_type": "execute_result"
    }
   ],
   "source": [
    "the_whole_slp[the_whole_slp.index.year==2020].sum()"
   ]
  },
  {
   "cell_type": "markdown",
   "id": "4a333bab",
   "metadata": {},
   "source": [
    "# Proxies / control variables / disaggregated demand\n",
    "## Estimated SLP"
   ]
  },
  {
   "cell_type": "code",
   "execution_count": 45,
   "id": "492969f6",
   "metadata": {},
   "outputs": [],
   "source": [
    "estimated = pd.read_csv(os.path.join(data_path, \"SLPs_new.csv\"), index_col=0)\n",
    "estimated.index = pd.to_datetime(\n",
    "    pd.to_datetime(estimated.index).date\n",
    ")"
   ]
  },
  {
   "cell_type": "code",
   "execution_count": 47,
   "id": "38d1bdbf-658f-4608-9c72-8e72815393c4",
   "metadata": {},
   "outputs": [
    {
     "data": {
      "text/plain": [
       "<AxesSubplot:>"
      ]
     },
     "execution_count": 47,
     "metadata": {},
     "output_type": "execute_result"
    },
    {
     "data": {
      "image/png": "[encoded data removed]",
      "text/plain": [
       "<Figure size 432x288 with 1 Axes>"
      ]
     },
     "metadata": {
      "needs_background": "light"
     },
     "output_type": "display_data"
    }
   ],
   "source": [
    "#hier wird falsch eingelesen\n",
    "\n",
    "estimated['dist_heat'].plot()"
   ]
  },
  {
   "cell_type": "code",
   "execution_count": 48,
   "id": "bcf24f40",
   "metadata": {},
   "outputs": [],
   "source": [
    "estimated[\"commercial\"] = estimated[[\"commercial_space TWh\", \"commercial_water TWh\"]].sum(1)\n",
    "estimated[\"residential\"] = estimated[[\"residential_space TWh\", \"residential_water TWh\"]].sum(1)"
   ]
  },
  {
   "cell_type": "code",
   "execution_count": 49,
   "id": "c598fe49-2c20-4111-b9bd-670ae2cc0b3d",
   "metadata": {},
   "outputs": [],
   "source": [
    "#estimated[\"scaled_district_heat\"][estimated.index.year>=2020].plot()"
   ]
  },
  {
   "cell_type": "markdown",
   "id": "86434303",
   "metadata": {},
   "source": [
    "Gas consumption according to AGEB in decentralized units will be mostly small CHP and hence temperature dependent. THis increases overall temperature-dependent gas consumption from 384 to 396 TWh."
   ]
  },
  {
   "cell_type": "code",
   "execution_count": 50,
   "id": "9dd56675",
   "metadata": {},
   "outputs": [],
   "source": [
    "estimated[\"scaled_space_private\"] = estimated['residential'] * 254 / estimated['residential'][\n",
    "    estimated.index.year==2020].sum()\n",
    "\n",
    "estimated[\"scaled_space_tertiary\"] = estimated['commercial'] * 98 / estimated['commercial'][\n",
    "    estimated.index.year==2020].sum()\n",
    "\n",
    "estimated[\"scaled_decentral_chp\"] = estimated['commercial'] * 15 / estimated['commercial'][\n",
    "    estimated.index.year==2020].sum()\n",
    "\n",
    "estimated[\"scaled_space_industry\"] = estimated['commercial'] * 25 / estimated['commercial'][\n",
    "    estimated.index.year==2020].sum()\n",
    "\n",
    "#estimated[\"scaled_district_heat\"] = estimated['dist_heat'] * 19 / estimated['dist_heat'][\n",
    "#    estimated.index.year==2020].sum()\n",
    "\n",
    "estimated['aggregated(incl_small_chp)'] = estimated[\n",
    "    [\"scaled_space_private\",\"scaled_space_tertiary\",\"scaled_decentral_chp\",\"scaled_space_industry\"]\n",
    "                                                   ].sum(1)\n"
   ]
  },
  {
   "cell_type": "code",
   "execution_count": 51,
   "id": "bc2c6c99",
   "metadata": {},
   "outputs": [
    {
     "data": {
      "text/plain": [
       "<matplotlib.lines.Line2D at 0x1989f1ec460>"
      ]
     },
     "execution_count": 51,
     "metadata": {},
     "output_type": "execute_result"
    },
    {
     "data": {
      "image/png": "[encoded data removed]",
      "text/plain": [
       "<Figure size 720x360 with 1 Axes>"
      ]
     },
     "metadata": {
      "needs_background": "light"
     },
     "output_type": "display_data"
    }
   ],
   "source": [
    "estimated.loc[estimated.index.year>=2021,'aggregated(incl_small_chp)'].plot(color='tab:red', figsize=(10,5))\n",
    "plt.grid()\n",
    "\n",
    "estimated2020 = estimated[estimated.index.year==2020]['aggregated(incl_small_chp)']\n",
    "estimated2021 = estimated.loc[\"2021-01-01\":]\n",
    "\n",
    "plt.fill_between(estimated2020.index, 0, estimated2020, color='tab:red', alpha=0.1)\n",
    "\n",
    "bottom = 0\n",
    "for sector, c, label in [(\"scaled_space_private\", \"maroon\", \"residential\"), (\n",
    "    \"scaled_space_industry\",\"red\", \"commercial\"), (\"scaled_decentral_chp\", \"lightsalmon\", \"decentral_chp\") ]:\n",
    "    plt.fill_between(estimated2021.index, bottom, estimated2021[sector], color=c, alpha=0.1, label = label)\n",
    "    bottom += estimated2021[sector]\n",
    "\n",
    "plt.xlabel('')\n",
    "plt.ylabel('Gas consumption (TWh/d)')\n",
    "plt.legend(loc='upper right', bbox_to_anchor=(1.325, 0.5))\n",
    "plt.ylim(0, 3.5)\n",
    "plt.axvline('2021-01-01', color='black', linewidth=0.7)\n",
    "#plt.axvline('2022-01-01', color='black', linewidth=0.7)"
   ]
  },
  {
   "cell_type": "markdown",
   "id": "a6e9c1e4",
   "metadata": {},
   "source": [
    "## Gas for electricity generation"
   ]
  },
  {
   "cell_type": "code",
   "execution_count": 76,
   "id": "d10a21dd",
   "metadata": {},
   "outputs": [],
   "source": [
    "electricity_from_gas = pd.read_csv(os.path.join(data_path, \"electricity_from_gas.csv\"), \n",
    "                                   index_col=0, parse_dates=True).iloc[:, 0]\n",
    "\n",
    "electricity_from_gas.index = pd.to_datetime(\n",
    "    pd.to_datetime(electricity_from_gas.index).date\n",
    ")\n",
    "electricity_from_gas = electricity_from_gas /10**6\n",
    "\n",
    "# earlier data\n",
    "\n",
    "el_update = pd.read_csv(os.path.join(data_path, \"entsoe_new.csv\"), \n",
    "                                   index_col=0, parse_dates=True).iloc[:, 0]\n",
    "el_update.index = pd.to_datetime(\n",
    "    el_update.index.map(lambda x: x.date())\n",
    ")\n",
    "\n",
    "# concat\n",
    "\n",
    "electricity_from_gas = pd.concat([el_update, electricity_from_gas], axis=0)"
   ]
  },
  {
   "cell_type": "code",
   "execution_count": 78,
   "id": "67747232",
   "metadata": {},
   "outputs": [],
   "source": [
    "energy_agbl = {\n",
    "    \"2016\": 80.6,\n",
    "    \"2017\": 86,\n",
    "    \"2018\": 81.6,\n",
    "    \"2019\": 90,\n",
    "    \"2020\": 94.7,\n",
    "    \"2021\": 89.7,\n",
    "}"
   ]
  },
  {
   "cell_type": "code",
   "execution_count": 79,
   "id": "a15d7bbe",
   "metadata": {},
   "outputs": [],
   "source": [
    "for key in list(energy_agbl.keys()):\n",
    "    electricity_from_gas[electricity_from_gas.index.year==int(key)] = electricity_from_gas[electricity_from_gas.index.year==int(key)] * energy_agbl[key] / electricity_from_gas[electricity_from_gas.index.year==int(key)].sum() "
   ]
  },
  {
   "cell_type": "markdown",
   "id": "b3456fb7",
   "metadata": {},
   "source": [
    "Scaled to 185 TWh in 2020, which is the sum of public power plants, public CHP, and industrial power plants (probably also mostly CHP):"
   ]
  },
  {
   "cell_type": "code",
   "execution_count": 80,
   "id": "f718e5fd",
   "metadata": {},
   "outputs": [],
   "source": [
    "gas_to_electricity = electricity_from_gas * 189 / (\n",
    "    electricity_from_gas[electricity_from_gas.index.year==2020].sum())\n",
    "\n",
    "gas_to_electricity_public_pp = electricity_from_gas * 106 / (\n",
    "    electricity_from_gas[electricity_from_gas.index.year==2020].sum())\n",
    "\n",
    "gas_to_electricity_public_chp = electricity_from_gas * 34 / (\n",
    "    electricity_from_gas[electricity_from_gas.index.year==2020].sum())\n",
    "\n",
    "electricity_from_gas.name = \"electricity_from_gas\"    \n",
    "gas_to_electricity.name = \"gas_to_electricity\"  "
   ]
  },
  {
   "cell_type": "code",
   "execution_count": 81,
   "id": "eff94a7a",
   "metadata": {},
   "outputs": [
    {
     "data": {
      "text/plain": [
       "<matplotlib.lines.Line2D at 0x198a06dff70>"
      ]
     },
     "execution_count": 81,
     "metadata": {},
     "output_type": "execute_result"
    },
    {
     "data": {
      "image/png": "[encoded data removed]",
      "text/plain": [
       "<Figure size 720x360 with 1 Axes>"
      ]
     },
     "metadata": {
      "needs_background": "light"
     },
     "output_type": "display_data"
    }
   ],
   "source": [
    "gas_to_electricity.plot(color='tab:grey', figsize=(10,5))\n",
    "plt.grid()\n",
    "power2020 = gas_to_electricity[gas_to_electricity.index.year==2020]\n",
    "index_21_22 = gas_to_electricity[gas_to_electricity.index.year!=2020].index\n",
    "\n",
    "plt.fill_between(power2020.index, 0, power2020, color='tab:grey', alpha=0.1)\n",
    "plt.fill_between(index_21_22, 0, gas_to_electricity_public_pp[index_21_22], color='grey', alpha=0.1, label=\"public_pp\")\n",
    "plt.fill_between(index_21_22, gas_to_electricity_public_pp[index_21_22], gas_to_electricity_public_chp[index_21_22], color='blue', alpha=0.1, label=\"public_chp\")\n",
    "\n",
    "\n",
    "plt.legend(loc='upper right', bbox_to_anchor=(1.24, 0.5))\n",
    "plt.xlabel('')\n",
    "plt.ylabel('Gas consumption (TWh/d)')\n",
    "plt.ylim(0, 3.5)\n",
    "plt.axvline('2021-01-01', color='black', linewidth=0.7)\n",
    "#plt.axvline('2022-01-01', color='black', linewidth=0.7)"
   ]
  },
  {
   "cell_type": "markdown",
   "id": "717ac2bd",
   "metadata": {},
   "source": [
    "## Gas prices"
   ]
  },
  {
   "cell_type": "code",
   "execution_count": 82,
   "id": "68c2c17f",
   "metadata": {},
   "outputs": [],
   "source": [
    "gas_prices = pd.read_csv(os.path.join(data_path, \"Dutch TTF Natural Gas Futures Recent.csv\"), index_col=0)\n",
    "gas_prices = gas_prices[\"Price\"].to_frame().rename(columns={\n",
    "    \"Price\":\"gas_price [€/MWh]\"}).dropna()\n",
    "gas_prices.index = pd.to_datetime(gas_prices.index, utc = True).date"
   ]
  },
  {
   "cell_type": "code",
   "execution_count": 83,
   "id": "03b81adf",
   "metadata": {},
   "outputs": [
    {
     "data": {
      "text/plain": [
       "<matplotlib.lines.Line2D at 0x198a076fe50>"
      ]
     },
     "execution_count": 83,
     "metadata": {},
     "output_type": "execute_result"
    },
    {
     "data": {
      "image/png": "[encoded data removed]",
      "text/plain": [
       "<Figure size 720x360 with 1 Axes>"
      ]
     },
     "metadata": {
      "needs_background": "light"
     },
     "output_type": "display_data"
    }
   ],
   "source": [
    "gas_prices.plot(figsize=(10,5))\n",
    "plt.axvline(x=\"2021-09-1\", color='k', linestyle='--', lw=1.2)\n",
    "plt.axvline(x=\"2021-05-1\", color='k', linestyle='--', lw=1.2)\n",
    "plt.axhline(xmax=0.5, y=50, color='k', linestyle='--', lw=1.2)\n",
    "plt.axhline(xmax=0.265, y=21, color='k', linestyle='--', lw=1.2)"
   ]
  },
  {
   "cell_type": "markdown",
   "id": "e5e7eeaa",
   "metadata": {},
   "source": [
    "Combine sources"
   ]
  },
  {
   "cell_type": "code",
   "execution_count": 84,
   "id": "6e56bca8",
   "metadata": {},
   "outputs": [],
   "source": [
    "the_whole_slp = the_whole_slp.drop_duplicates()\n",
    "the_whole_rlm = the_whole_rlm.drop_duplicates()\n",
    "gas_prices = gas_prices.drop_duplicates()"
   ]
  },
  {
   "cell_type": "code",
   "execution_count": 85,
   "id": "85fb5375",
   "metadata": {},
   "outputs": [],
   "source": [
    "df_all = the_whole_slp.join(\n",
    "    [the_whole_rlm, gas_to_electricity, electricity_from_gas, \n",
    "        gas_prices, estimated[\n",
    "    [\"scaled_space_private\",\"scaled_space_tertiary\",\"scaled_decentral_chp\",\"scaled_space_industry\", 'aggregated(incl_small_chp)']\n",
    "                                                   ]\n",
    "    ]\n",
    ")"
   ]
  },
  {
   "cell_type": "code",
   "execution_count": 87,
   "id": "d34ad00b",
   "metadata": {},
   "outputs": [
    {
     "data": {
      "text/html": [
       "<div>\n",
       "<style scoped>\n",
       "    .dataframe tbody tr th:only-of-type {\n",
       "        vertical-align: middle;\n",
       "    }\n",
       "\n",
       "    .dataframe tbody tr th {\n",
       "        vertical-align: top;\n",
       "    }\n",
       "\n",
       "    .dataframe thead th {\n",
       "        text-align: right;\n",
       "    }\n",
       "</style>\n",
       "<table border=\"1\" class=\"dataframe\">\n",
       "  <thead>\n",
       "    <tr style=\"text-align: right;\">\n",
       "      <th></th>\n",
       "      <th>the_combined_slp</th>\n",
       "      <th>the_combined_rlm</th>\n",
       "      <th>gas_to_electricity</th>\n",
       "      <th>electricity_from_gas</th>\n",
       "      <th>gas_price [€/MWh]</th>\n",
       "      <th>scaled_space_private</th>\n",
       "      <th>scaled_space_tertiary</th>\n",
       "      <th>scaled_decentral_chp</th>\n",
       "      <th>scaled_space_industry</th>\n",
       "      <th>aggregated(incl_small_chp)</th>\n",
       "    </tr>\n",
       "  </thead>\n",
       "  <tbody>\n",
       "    <tr>\n",
       "      <th>2016-10-01</th>\n",
       "      <td>0.396332</td>\n",
       "      <td>1.262703</td>\n",
       "      <td>0.567599</td>\n",
       "      <td>0.284400</td>\n",
       "      <td>NaN</td>\n",
       "      <td>0.168296</td>\n",
       "      <td>0.035030</td>\n",
       "      <td>0.005362</td>\n",
       "      <td>0.008936</td>\n",
       "      <td>0.217624</td>\n",
       "    </tr>\n",
       "    <tr>\n",
       "      <th>2016-10-02</th>\n",
       "      <td>0.511865</td>\n",
       "      <td>1.229047</td>\n",
       "      <td>0.526653</td>\n",
       "      <td>0.263884</td>\n",
       "      <td>NaN</td>\n",
       "      <td>0.208305</td>\n",
       "      <td>0.051859</td>\n",
       "      <td>0.007938</td>\n",
       "      <td>0.013229</td>\n",
       "      <td>0.281330</td>\n",
       "    </tr>\n",
       "    <tr>\n",
       "      <th>2016-10-03</th>\n",
       "      <td>0.616591</td>\n",
       "      <td>1.300171</td>\n",
       "      <td>0.546110</td>\n",
       "      <td>0.273633</td>\n",
       "      <td>NaN</td>\n",
       "      <td>0.247985</td>\n",
       "      <td>0.076650</td>\n",
       "      <td>0.011732</td>\n",
       "      <td>0.019554</td>\n",
       "      <td>0.355921</td>\n",
       "    </tr>\n",
       "    <tr>\n",
       "      <th>2016-10-04</th>\n",
       "      <td>0.709381</td>\n",
       "      <td>1.546009</td>\n",
       "      <td>0.425086</td>\n",
       "      <td>0.212993</td>\n",
       "      <td>NaN</td>\n",
       "      <td>0.275558</td>\n",
       "      <td>0.090982</td>\n",
       "      <td>0.013926</td>\n",
       "      <td>0.023210</td>\n",
       "      <td>0.403675</td>\n",
       "    </tr>\n",
       "    <tr>\n",
       "      <th>2016-10-05</th>\n",
       "      <td>0.882730</td>\n",
       "      <td>1.629043</td>\n",
       "      <td>0.476079</td>\n",
       "      <td>0.238543</td>\n",
       "      <td>NaN</td>\n",
       "      <td>0.335879</td>\n",
       "      <td>0.122167</td>\n",
       "      <td>0.018699</td>\n",
       "      <td>0.031165</td>\n",
       "      <td>0.507910</td>\n",
       "    </tr>\n",
       "  </tbody>\n",
       "</table>\n",
       "</div>"
      ],
      "text/plain": [
       "            the_combined_slp  the_combined_rlm  gas_to_electricity  \\\n",
       "2016-10-01          0.396332          1.262703            0.567599   \n",
       "2016-10-02          0.511865          1.229047            0.526653   \n",
       "2016-10-03          0.616591          1.300171            0.546110   \n",
       "2016-10-04          0.709381          1.546009            0.425086   \n",
       "2016-10-05          0.882730          1.629043            0.476079   \n",
       "\n",
       "            electricity_from_gas  gas_price [€/MWh]  scaled_space_private  \\\n",
       "2016-10-01              0.284400                NaN              0.168296   \n",
       "2016-10-02              0.263884                NaN              0.208305   \n",
       "2016-10-03              0.273633                NaN              0.247985   \n",
       "2016-10-04              0.212993                NaN              0.275558   \n",
       "2016-10-05              0.238543                NaN              0.335879   \n",
       "\n",
       "            scaled_space_tertiary  scaled_decentral_chp  \\\n",
       "2016-10-01               0.035030              0.005362   \n",
       "2016-10-02               0.051859              0.007938   \n",
       "2016-10-03               0.076650              0.011732   \n",
       "2016-10-04               0.090982              0.013926   \n",
       "2016-10-05               0.122167              0.018699   \n",
       "\n",
       "            scaled_space_industry  aggregated(incl_small_chp)  \n",
       "2016-10-01               0.008936                    0.217624  \n",
       "2016-10-02               0.013229                    0.281330  \n",
       "2016-10-03               0.019554                    0.355921  \n",
       "2016-10-04               0.023210                    0.403675  \n",
       "2016-10-05               0.031165                    0.507910  "
      ]
     },
     "execution_count": 87,
     "metadata": {},
     "output_type": "execute_result"
    }
   ],
   "source": [
    "df_all.head()"
   ]
  },
  {
   "cell_type": "code",
   "execution_count": 88,
   "id": "b28c8a6e",
   "metadata": {},
   "outputs": [],
   "source": [
    "first = the_whole_slp.iloc[0].name\n",
    "last = the_whole_slp.iloc[-1].name\n",
    "\n",
    "def unify_index(df):\n",
    "    try:\n",
    "        return df.loc[(df.index >= first) & (df.index <= last)]\n",
    "    except:\n",
    "        return df.loc[(df.index.date >= first) & (df.index.date <= last)]"
   ]
  },
  {
   "cell_type": "code",
   "execution_count": 89,
   "id": "dd1d6b44",
   "metadata": {},
   "outputs": [],
   "source": [
    "df_all = unify_index(df_all)"
   ]
  },
  {
   "cell_type": "code",
   "execution_count": 90,
   "id": "dd2d0a44",
   "metadata": {},
   "outputs": [
    {
     "data": {
      "text/plain": [
       "<bound method NDFrame.tail of             the_combined_slp  the_combined_rlm  gas_to_electricity  \\\n",
       "2016-10-01          0.396332          1.262703            0.567599   \n",
       "2016-10-02          0.511865          1.229047            0.526653   \n",
       "2016-10-03          0.616591          1.300171            0.546110   \n",
       "2016-10-04          0.709381          1.546009            0.425086   \n",
       "2016-10-05          0.882730          1.629043            0.476079   \n",
       "...                      ...               ...                 ...   \n",
       "2022-05-27          0.435938          1.022803                 NaN   \n",
       "2022-05-28          0.528253          0.939121                 NaN   \n",
       "2022-05-29          0.646633          1.066055                 NaN   \n",
       "2022-05-30          0.697862               NaN                 NaN   \n",
       "2022-05-31          0.615783               NaN                 NaN   \n",
       "\n",
       "            electricity_from_gas  gas_price [€/MWh]  scaled_space_private  \\\n",
       "2016-10-01              0.284400                NaN              0.168296   \n",
       "2016-10-02              0.263884                NaN              0.208305   \n",
       "2016-10-03              0.273633                NaN              0.247985   \n",
       "2016-10-04              0.212993                NaN              0.275558   \n",
       "2016-10-05              0.238543                NaN              0.335879   \n",
       "...                          ...                ...                   ...   \n",
       "2022-05-27                   NaN                NaN                   NaN   \n",
       "2022-05-28                   NaN                NaN                   NaN   \n",
       "2022-05-29                   NaN                NaN                   NaN   \n",
       "2022-05-30                   NaN                NaN                   NaN   \n",
       "2022-05-31                   NaN                NaN                   NaN   \n",
       "\n",
       "            scaled_space_tertiary  scaled_decentral_chp  \\\n",
       "2016-10-01               0.035030              0.005362   \n",
       "2016-10-02               0.051859              0.007938   \n",
       "2016-10-03               0.076650              0.011732   \n",
       "2016-10-04               0.090982              0.013926   \n",
       "2016-10-05               0.122167              0.018699   \n",
       "...                           ...                   ...   \n",
       "2022-05-27                    NaN                   NaN   \n",
       "2022-05-28                    NaN                   NaN   \n",
       "2022-05-29                    NaN                   NaN   \n",
       "2022-05-30                    NaN                   NaN   \n",
       "2022-05-31                    NaN                   NaN   \n",
       "\n",
       "            scaled_space_industry  aggregated(incl_small_chp)  \n",
       "2016-10-01               0.008936                    0.217624  \n",
       "2016-10-02               0.013229                    0.281330  \n",
       "2016-10-03               0.019554                    0.355921  \n",
       "2016-10-04               0.023210                    0.403675  \n",
       "2016-10-05               0.031165                    0.507910  \n",
       "...                           ...                         ...  \n",
       "2022-05-27                    NaN                         NaN  \n",
       "2022-05-28                    NaN                         NaN  \n",
       "2022-05-29                    NaN                         NaN  \n",
       "2022-05-30                    NaN                         NaN  \n",
       "2022-05-31                    NaN                         NaN  \n",
       "\n",
       "[2547 rows x 10 columns]>"
      ]
     },
     "execution_count": 90,
     "metadata": {},
     "output_type": "execute_result"
    }
   ],
   "source": [
    "df_all.tail"
   ]
  },
  {
   "cell_type": "markdown",
   "id": "c8ccc18e",
   "metadata": {},
   "source": [
    "# Analysis & plotting"
   ]
  },
  {
   "cell_type": "markdown",
   "id": "01e788ee",
   "metadata": {},
   "source": [
    "## Align indexes\n",
    "All calculations and plots are done for the same period: 01.10.2021-25.03.2022"
   ]
  },
  {
   "cell_type": "markdown",
   "id": "b6d6ebf8",
   "metadata": {},
   "source": [
    "# Subtract gas for electricity generation"
   ]
  },
  {
   "cell_type": "markdown",
   "id": "8c2ed277",
   "metadata": {},
   "source": [
    "## THE vs. our estimates"
   ]
  },
  {
   "cell_type": "code",
   "execution_count": null,
   "id": "05e7dd42",
   "metadata": {},
   "outputs": [],
   "source": [
    "y1=df_all[\"aggregated(incl_small_chp)\"]\n",
    "y2= df_all[\"the_combined_slp\"]\n",
    "y3 = df_all[\"the_combined_rlm\"]"
   ]
  },
  {
   "cell_type": "markdown",
   "id": "2cd9492b",
   "metadata": {},
   "source": [
    "### Weekly analyis: Russian invasion: 24.02. (Thu), Fasching: 28.02.-02.03. (Mon-Wed)"
   ]
  },
  {
   "cell_type": "code",
   "execution_count": null,
   "id": "102f649e",
   "metadata": {},
   "outputs": [],
   "source": [
    "ax = (y3 - 0.34*y1).to_frame().rename(columns={0:\"RLM minus SLP \"}).plot()\n",
    "ax.set_ylim(0,2.5)\n",
    "y3.plot(\n",
    "    ax=ax, title = \"RLM; RLM minus temperature-dependant SLP\", figsize=(10,5))\n",
    "plt.show()"
   ]
  },
  {
   "cell_type": "code",
   "execution_count": null,
   "id": "0b4d5dde",
   "metadata": {},
   "outputs": [],
   "source": [
    "ax = y2.plot()\n",
    "y1.plot(ax=ax, figsize=(10,5))\n",
    "\n",
    "plt.show()"
   ]
  },
  {
   "cell_type": "markdown",
   "id": "e3eeeb06",
   "metadata": {},
   "source": [
    "# Export"
   ]
  },
  {
   "cell_type": "code",
   "execution_count": 91,
   "id": "11be6909",
   "metadata": {},
   "outputs": [],
   "source": [
    "df = df_all"
   ]
  },
  {
   "cell_type": "code",
   "execution_count": 92,
   "id": "21f4bb5c",
   "metadata": {},
   "outputs": [],
   "source": [
    "df['index']= df.index\n",
    "df['time'] = range(len(df))\n",
    "df['time'] = df['time'].apply(float)\n",
    "df['year'] = df[\"index\"].apply(lambda x: x.year)\n",
    "df['month'] = df['index'].apply(lambda x: x.month)"
   ]
  },
  {
   "cell_type": "code",
   "execution_count": 93,
   "id": "00cebd6f",
   "metadata": {},
   "outputs": [],
   "source": [
    "df['weekday'] = df['index'].apply(lambda x: x.strftime('%A'))\n",
    "df['weekday_num'] = df['index'].apply(lambda x: x.weekday())\n",
    "df['monday'] = df['weekday'].apply(lambda x: int(x==\"Monday\"))\n",
    "df['friday'] = df['weekday'].apply(lambda x: int(x==\"Friday\"))\n",
    "df['weekend'] = df['weekday'].apply(lambda x: int(x in [\"Saturday\", \"Sunday\"]))"
   ]
  },
  {
   "cell_type": "code",
   "execution_count": 94,
   "id": "7bc62ff0",
   "metadata": {},
   "outputs": [],
   "source": [
    "df['christmas_period'] = df['index'].apply(\n",
    "    lambda x: int((x.month==12)&(x.day in range(24,32)))\n",
    ")\n",
    "\n",
    "country_holidays = holidays.CountryHoliday('DE', prov='BY')\n",
    "df['holiday'] = df['index'].apply(lambda x: int(x in country_holidays))\n",
    "df['bridgeday'] = ((\n",
    "    (df['holiday'].shift(24) + df['holiday'].shift(-24)) * \n",
    "    (df['weekend'].shift(24) + df['weekend'].shift(-24))\n",
    ") > 0).apply(int)"
   ]
  },
  {
   "cell_type": "code",
   "execution_count": 95,
   "id": "8389211f",
   "metadata": {},
   "outputs": [
    {
     "data": {
      "text/html": [
       "<div>\n",
       "<style scoped>\n",
       "    .dataframe tbody tr th:only-of-type {\n",
       "        vertical-align: middle;\n",
       "    }\n",
       "\n",
       "    .dataframe tbody tr th {\n",
       "        vertical-align: top;\n",
       "    }\n",
       "\n",
       "    .dataframe thead th {\n",
       "        text-align: right;\n",
       "    }\n",
       "</style>\n",
       "<table border=\"1\" class=\"dataframe\">\n",
       "  <thead>\n",
       "    <tr style=\"text-align: right;\">\n",
       "      <th></th>\n",
       "      <th>the_combined_slp</th>\n",
       "      <th>the_combined_rlm</th>\n",
       "      <th>gas_to_electricity</th>\n",
       "      <th>electricity_from_gas</th>\n",
       "      <th>gas_price [€/MWh]</th>\n",
       "      <th>scaled_space_private</th>\n",
       "      <th>scaled_space_tertiary</th>\n",
       "      <th>scaled_decentral_chp</th>\n",
       "      <th>scaled_space_industry</th>\n",
       "      <th>aggregated(incl_small_chp)</th>\n",
       "      <th>...</th>\n",
       "      <th>year</th>\n",
       "      <th>month</th>\n",
       "      <th>weekday</th>\n",
       "      <th>weekday_num</th>\n",
       "      <th>monday</th>\n",
       "      <th>friday</th>\n",
       "      <th>weekend</th>\n",
       "      <th>christmas_period</th>\n",
       "      <th>holiday</th>\n",
       "      <th>bridgeday</th>\n",
       "    </tr>\n",
       "  </thead>\n",
       "  <tbody>\n",
       "    <tr>\n",
       "      <th>2016-10-01</th>\n",
       "      <td>0.396332</td>\n",
       "      <td>1.262703</td>\n",
       "      <td>0.567599</td>\n",
       "      <td>0.284400</td>\n",
       "      <td>NaN</td>\n",
       "      <td>0.168296</td>\n",
       "      <td>0.035030</td>\n",
       "      <td>0.005362</td>\n",
       "      <td>0.008936</td>\n",
       "      <td>0.217624</td>\n",
       "      <td>...</td>\n",
       "      <td>2016</td>\n",
       "      <td>10</td>\n",
       "      <td>Saturday</td>\n",
       "      <td>5</td>\n",
       "      <td>0</td>\n",
       "      <td>0</td>\n",
       "      <td>1</td>\n",
       "      <td>0</td>\n",
       "      <td>0</td>\n",
       "      <td>0</td>\n",
       "    </tr>\n",
       "    <tr>\n",
       "      <th>2016-10-02</th>\n",
       "      <td>0.511865</td>\n",
       "      <td>1.229047</td>\n",
       "      <td>0.526653</td>\n",
       "      <td>0.263884</td>\n",
       "      <td>NaN</td>\n",
       "      <td>0.208305</td>\n",
       "      <td>0.051859</td>\n",
       "      <td>0.007938</td>\n",
       "      <td>0.013229</td>\n",
       "      <td>0.281330</td>\n",
       "      <td>...</td>\n",
       "      <td>2016</td>\n",
       "      <td>10</td>\n",
       "      <td>Sunday</td>\n",
       "      <td>6</td>\n",
       "      <td>0</td>\n",
       "      <td>0</td>\n",
       "      <td>1</td>\n",
       "      <td>0</td>\n",
       "      <td>0</td>\n",
       "      <td>0</td>\n",
       "    </tr>\n",
       "    <tr>\n",
       "      <th>2016-10-03</th>\n",
       "      <td>0.616591</td>\n",
       "      <td>1.300171</td>\n",
       "      <td>0.546110</td>\n",
       "      <td>0.273633</td>\n",
       "      <td>NaN</td>\n",
       "      <td>0.247985</td>\n",
       "      <td>0.076650</td>\n",
       "      <td>0.011732</td>\n",
       "      <td>0.019554</td>\n",
       "      <td>0.355921</td>\n",
       "      <td>...</td>\n",
       "      <td>2016</td>\n",
       "      <td>10</td>\n",
       "      <td>Monday</td>\n",
       "      <td>0</td>\n",
       "      <td>1</td>\n",
       "      <td>0</td>\n",
       "      <td>0</td>\n",
       "      <td>0</td>\n",
       "      <td>1</td>\n",
       "      <td>0</td>\n",
       "    </tr>\n",
       "    <tr>\n",
       "      <th>2016-10-04</th>\n",
       "      <td>0.709381</td>\n",
       "      <td>1.546009</td>\n",
       "      <td>0.425086</td>\n",
       "      <td>0.212993</td>\n",
       "      <td>NaN</td>\n",
       "      <td>0.275558</td>\n",
       "      <td>0.090982</td>\n",
       "      <td>0.013926</td>\n",
       "      <td>0.023210</td>\n",
       "      <td>0.403675</td>\n",
       "      <td>...</td>\n",
       "      <td>2016</td>\n",
       "      <td>10</td>\n",
       "      <td>Tuesday</td>\n",
       "      <td>1</td>\n",
       "      <td>0</td>\n",
       "      <td>0</td>\n",
       "      <td>0</td>\n",
       "      <td>0</td>\n",
       "      <td>0</td>\n",
       "      <td>0</td>\n",
       "    </tr>\n",
       "    <tr>\n",
       "      <th>2016-10-05</th>\n",
       "      <td>0.882730</td>\n",
       "      <td>1.629043</td>\n",
       "      <td>0.476079</td>\n",
       "      <td>0.238543</td>\n",
       "      <td>NaN</td>\n",
       "      <td>0.335879</td>\n",
       "      <td>0.122167</td>\n",
       "      <td>0.018699</td>\n",
       "      <td>0.031165</td>\n",
       "      <td>0.507910</td>\n",
       "      <td>...</td>\n",
       "      <td>2016</td>\n",
       "      <td>10</td>\n",
       "      <td>Wednesday</td>\n",
       "      <td>2</td>\n",
       "      <td>0</td>\n",
       "      <td>0</td>\n",
       "      <td>0</td>\n",
       "      <td>0</td>\n",
       "      <td>0</td>\n",
       "      <td>0</td>\n",
       "    </tr>\n",
       "    <tr>\n",
       "      <th>...</th>\n",
       "      <td>...</td>\n",
       "      <td>...</td>\n",
       "      <td>...</td>\n",
       "      <td>...</td>\n",
       "      <td>...</td>\n",
       "      <td>...</td>\n",
       "      <td>...</td>\n",
       "      <td>...</td>\n",
       "      <td>...</td>\n",
       "      <td>...</td>\n",
       "      <td>...</td>\n",
       "      <td>...</td>\n",
       "      <td>...</td>\n",
       "      <td>...</td>\n",
       "      <td>...</td>\n",
       "      <td>...</td>\n",
       "      <td>...</td>\n",
       "      <td>...</td>\n",
       "      <td>...</td>\n",
       "      <td>...</td>\n",
       "      <td>...</td>\n",
       "    </tr>\n",
       "    <tr>\n",
       "      <th>2022-05-27</th>\n",
       "      <td>0.435938</td>\n",
       "      <td>1.022803</td>\n",
       "      <td>NaN</td>\n",
       "      <td>NaN</td>\n",
       "      <td>NaN</td>\n",
       "      <td>NaN</td>\n",
       "      <td>NaN</td>\n",
       "      <td>NaN</td>\n",
       "      <td>NaN</td>\n",
       "      <td>NaN</td>\n",
       "      <td>...</td>\n",
       "      <td>2022</td>\n",
       "      <td>5</td>\n",
       "      <td>Friday</td>\n",
       "      <td>4</td>\n",
       "      <td>0</td>\n",
       "      <td>1</td>\n",
       "      <td>0</td>\n",
       "      <td>0</td>\n",
       "      <td>0</td>\n",
       "      <td>0</td>\n",
       "    </tr>\n",
       "    <tr>\n",
       "      <th>2022-05-28</th>\n",
       "      <td>0.528253</td>\n",
       "      <td>0.939121</td>\n",
       "      <td>NaN</td>\n",
       "      <td>NaN</td>\n",
       "      <td>NaN</td>\n",
       "      <td>NaN</td>\n",
       "      <td>NaN</td>\n",
       "      <td>NaN</td>\n",
       "      <td>NaN</td>\n",
       "      <td>NaN</td>\n",
       "      <td>...</td>\n",
       "      <td>2022</td>\n",
       "      <td>5</td>\n",
       "      <td>Saturday</td>\n",
       "      <td>5</td>\n",
       "      <td>0</td>\n",
       "      <td>0</td>\n",
       "      <td>1</td>\n",
       "      <td>0</td>\n",
       "      <td>0</td>\n",
       "      <td>0</td>\n",
       "    </tr>\n",
       "    <tr>\n",
       "      <th>2022-05-29</th>\n",
       "      <td>0.646633</td>\n",
       "      <td>1.066055</td>\n",
       "      <td>NaN</td>\n",
       "      <td>NaN</td>\n",
       "      <td>NaN</td>\n",
       "      <td>NaN</td>\n",
       "      <td>NaN</td>\n",
       "      <td>NaN</td>\n",
       "      <td>NaN</td>\n",
       "      <td>NaN</td>\n",
       "      <td>...</td>\n",
       "      <td>2022</td>\n",
       "      <td>5</td>\n",
       "      <td>Sunday</td>\n",
       "      <td>6</td>\n",
       "      <td>0</td>\n",
       "      <td>0</td>\n",
       "      <td>1</td>\n",
       "      <td>0</td>\n",
       "      <td>0</td>\n",
       "      <td>0</td>\n",
       "    </tr>\n",
       "    <tr>\n",
       "      <th>2022-05-30</th>\n",
       "      <td>0.697862</td>\n",
       "      <td>NaN</td>\n",
       "      <td>NaN</td>\n",
       "      <td>NaN</td>\n",
       "      <td>NaN</td>\n",
       "      <td>NaN</td>\n",
       "      <td>NaN</td>\n",
       "      <td>NaN</td>\n",
       "      <td>NaN</td>\n",
       "      <td>NaN</td>\n",
       "      <td>...</td>\n",
       "      <td>2022</td>\n",
       "      <td>5</td>\n",
       "      <td>Monday</td>\n",
       "      <td>0</td>\n",
       "      <td>1</td>\n",
       "      <td>0</td>\n",
       "      <td>0</td>\n",
       "      <td>0</td>\n",
       "      <td>0</td>\n",
       "      <td>0</td>\n",
       "    </tr>\n",
       "    <tr>\n",
       "      <th>2022-05-31</th>\n",
       "      <td>0.615783</td>\n",
       "      <td>NaN</td>\n",
       "      <td>NaN</td>\n",
       "      <td>NaN</td>\n",
       "      <td>NaN</td>\n",
       "      <td>NaN</td>\n",
       "      <td>NaN</td>\n",
       "      <td>NaN</td>\n",
       "      <td>NaN</td>\n",
       "      <td>NaN</td>\n",
       "      <td>...</td>\n",
       "      <td>2022</td>\n",
       "      <td>5</td>\n",
       "      <td>Tuesday</td>\n",
       "      <td>1</td>\n",
       "      <td>0</td>\n",
       "      <td>0</td>\n",
       "      <td>0</td>\n",
       "      <td>0</td>\n",
       "      <td>0</td>\n",
       "      <td>0</td>\n",
       "    </tr>\n",
       "  </tbody>\n",
       "</table>\n",
       "<p>2547 rows × 22 columns</p>\n",
       "</div>"
      ],
      "text/plain": [
       "            the_combined_slp  the_combined_rlm  gas_to_electricity  \\\n",
       "2016-10-01          0.396332          1.262703            0.567599   \n",
       "2016-10-02          0.511865          1.229047            0.526653   \n",
       "2016-10-03          0.616591          1.300171            0.546110   \n",
       "2016-10-04          0.709381          1.546009            0.425086   \n",
       "2016-10-05          0.882730          1.629043            0.476079   \n",
       "...                      ...               ...                 ...   \n",
       "2022-05-27          0.435938          1.022803                 NaN   \n",
       "2022-05-28          0.528253          0.939121                 NaN   \n",
       "2022-05-29          0.646633          1.066055                 NaN   \n",
       "2022-05-30          0.697862               NaN                 NaN   \n",
       "2022-05-31          0.615783               NaN                 NaN   \n",
       "\n",
       "            electricity_from_gas  gas_price [€/MWh]  scaled_space_private  \\\n",
       "2016-10-01              0.284400                NaN              0.168296   \n",
       "2016-10-02              0.263884                NaN              0.208305   \n",
       "2016-10-03              0.273633                NaN              0.247985   \n",
       "2016-10-04              0.212993                NaN              0.275558   \n",
       "2016-10-05              0.238543                NaN              0.335879   \n",
       "...                          ...                ...                   ...   \n",
       "2022-05-27                   NaN                NaN                   NaN   \n",
       "2022-05-28                   NaN                NaN                   NaN   \n",
       "2022-05-29                   NaN                NaN                   NaN   \n",
       "2022-05-30                   NaN                NaN                   NaN   \n",
       "2022-05-31                   NaN                NaN                   NaN   \n",
       "\n",
       "            scaled_space_tertiary  scaled_decentral_chp  \\\n",
       "2016-10-01               0.035030              0.005362   \n",
       "2016-10-02               0.051859              0.007938   \n",
       "2016-10-03               0.076650              0.011732   \n",
       "2016-10-04               0.090982              0.013926   \n",
       "2016-10-05               0.122167              0.018699   \n",
       "...                           ...                   ...   \n",
       "2022-05-27                    NaN                   NaN   \n",
       "2022-05-28                    NaN                   NaN   \n",
       "2022-05-29                    NaN                   NaN   \n",
       "2022-05-30                    NaN                   NaN   \n",
       "2022-05-31                    NaN                   NaN   \n",
       "\n",
       "            scaled_space_industry  aggregated(incl_small_chp)  ...  year  \\\n",
       "2016-10-01               0.008936                    0.217624  ...  2016   \n",
       "2016-10-02               0.013229                    0.281330  ...  2016   \n",
       "2016-10-03               0.019554                    0.355921  ...  2016   \n",
       "2016-10-04               0.023210                    0.403675  ...  2016   \n",
       "2016-10-05               0.031165                    0.507910  ...  2016   \n",
       "...                           ...                         ...  ...   ...   \n",
       "2022-05-27                    NaN                         NaN  ...  2022   \n",
       "2022-05-28                    NaN                         NaN  ...  2022   \n",
       "2022-05-29                    NaN                         NaN  ...  2022   \n",
       "2022-05-30                    NaN                         NaN  ...  2022   \n",
       "2022-05-31                    NaN                         NaN  ...  2022   \n",
       "\n",
       "            month    weekday  weekday_num monday  friday  weekend  \\\n",
       "2016-10-01     10   Saturday            5      0       0        1   \n",
       "2016-10-02     10     Sunday            6      0       0        1   \n",
       "2016-10-03     10     Monday            0      1       0        0   \n",
       "2016-10-04     10    Tuesday            1      0       0        0   \n",
       "2016-10-05     10  Wednesday            2      0       0        0   \n",
       "...           ...        ...          ...    ...     ...      ...   \n",
       "2022-05-27      5     Friday            4      0       1        0   \n",
       "2022-05-28      5   Saturday            5      0       0        1   \n",
       "2022-05-29      5     Sunday            6      0       0        1   \n",
       "2022-05-30      5     Monday            0      1       0        0   \n",
       "2022-05-31      5    Tuesday            1      0       0        0   \n",
       "\n",
       "            christmas_period  holiday  bridgeday  \n",
       "2016-10-01                 0        0          0  \n",
       "2016-10-02                 0        0          0  \n",
       "2016-10-03                 0        1          0  \n",
       "2016-10-04                 0        0          0  \n",
       "2016-10-05                 0        0          0  \n",
       "...                      ...      ...        ...  \n",
       "2022-05-27                 0        0          0  \n",
       "2022-05-28                 0        0          0  \n",
       "2022-05-29                 0        0          0  \n",
       "2022-05-30                 0        0          0  \n",
       "2022-05-31                 0        0          0  \n",
       "\n",
       "[2547 rows x 22 columns]"
      ]
     },
     "execution_count": 95,
     "metadata": {},
     "output_type": "execute_result"
    }
   ],
   "source": [
    "df"
   ]
  },
  {
   "cell_type": "code",
   "execution_count": null,
   "id": "95fa03d9",
   "metadata": {},
   "outputs": [],
   "source": [
    "df.to_csv(os.path.join(data_path, \"preprocessed.csv\"))"
   ]
  },
  {
   "cell_type": "code",
   "execution_count": null,
   "id": "8d7beafc",
   "metadata": {},
   "outputs": [],
   "source": [
    "df"
   ]
  },
  {
   "cell_type": "code",
   "execution_count": null,
   "id": "55408128",
   "metadata": {},
   "outputs": [],
   "source": []
  },
  {
   "cell_type": "code",
   "execution_count": null,
   "id": "a428a8fb",
   "metadata": {},
   "outputs": [],
   "source": []
  },
  {
   "cell_type": "code",
   "execution_count": null,
   "id": "b2dd9b25",
   "metadata": {},
   "outputs": [],
   "source": []
  },
  {
   "cell_type": "code",
   "execution_count": null,
   "id": "bdbbe77e",
   "metadata": {},
   "outputs": [],
   "source": []
  },
  {
   "cell_type": "code",
   "execution_count": null,
   "id": "26efbe6d",
   "metadata": {},
   "outputs": [],
   "source": []
  },
  {
   "cell_type": "code",
   "execution_count": null,
   "id": "1f2b88ca",
   "metadata": {},
   "outputs": [],
   "source": []
  }
 ],
 "metadata": {
  "kernelspec": {
   "display_name": "Python 3 (ipykernel)",
   "language": "python",
   "name": "python3"
  },
  "language_info": {
   "codemirror_mode": {
    "name": "ipython",
    "version": 3
   },
   "file_extension": ".py",
   "mimetype": "text/x-python",
   "name": "python",
   "nbconvert_exporter": "python",
   "pygments_lexer": "ipython3",
   "version": "3.9.5"
  }
 },
 "nbformat": 4,
 "nbformat_minor": 5
}
