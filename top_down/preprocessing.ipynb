{
 "cells": [
  {
   "cell_type": "markdown",
   "metadata": {},
   "source": [
    "Time dummies"
   ]
  },
  {
   "cell_type": "code",
   "execution_count": null,
   "metadata": {},
   "outputs": [],
   "source": [
    "df['time'] = range(len(df))\n",
    "df['time'] = df['time'].apply(float)\n",
    "df['year'] = df['cet_cest_timestamp'].apply(lambda x: x[:4])\n",
    "df['month'] = df['cet_cest_timestamp'].apply(lambda x: x[5:7])"
   ]
  },
  {
   "cell_type": "code",
   "execution_count": null,
   "metadata": {},
   "outputs": [],
   "source": [
    "df['weekday'] = df['cet_cest_timestamp'].apply(lambda x: pd.Timestamp(x).day_name())\n",
    "df['weekday_num'] = df['cet_cest_timestamp'].apply(lambda x: pd.Timestamp(x).weekday())\n",
    "df['monday'] = df['weekday'].apply(lambda x: int(x==\"Monday\"))\n",
    "df['friday'] = df['weekday'].apply(lambda x: int(x==\"Friday\"))\n",
    "df['weekend'] = df['weekday'].apply(lambda x: int(x in [\"Saturday\", \"Sunday\"]))"
   ]
  },
  {
   "cell_type": "code",
   "execution_count": null,
   "metadata": {},
   "outputs": [],
   "source": [
    "df['christmas_period'] = df['cet_cest_timestamp'].apply(\n",
    "    lambda x: int((pd.Timestamp(x).month==12)&(pd.Timestamp(x).day in range(24,32)))\n",
    ")"
   ]
  },
  {
   "cell_type": "code",
   "execution_count": null,
   "metadata": {},
   "outputs": [],
   "source": [
    "country_holidays = holidays.CountryHoliday('DE', prov='BY')\n",
    "df['holiday'] = df['cet_cest_timestamp'].apply(lambda x: int(pd.Timestamp(x) in country_holidays))\n",
    "df['bridgeday'] = ((\n",
    "    (df['holiday'].shift(24) + df['holiday'].shift(-24)) * \n",
    "    (df['weekend'].shift(24) + df['weekend'].shift(-24))\n",
    ") > 0).apply(int)"
   ]
  }
 ],
 "metadata": {
  "kernelspec": {
   "display_name": "Python 3",
   "language": "python",
   "name": "python3"
  },
  "language_info": {
   "codemirror_mode": {
    "name": "ipython",
    "version": 3
   },
   "file_extension": ".py",
   "mimetype": "text/x-python",
   "name": "python",
   "nbconvert_exporter": "python",
   "pygments_lexer": "ipython3",
   "version": "3.8.5"
  }
 },
 "nbformat": 4,
 "nbformat_minor": 5
}
